{
 "cells": [
  {
   "cell_type": "code",
   "execution_count": null,
   "metadata": {},
   "outputs": [],
   "source": [
    "import pandas as pd\n",
    "import numpy as np"
   ]
  },
  {
   "cell_type": "code",
   "execution_count": null,
   "metadata": {},
   "outputs": [],
   "source": [
    "def fix_name(name):\n",
    "    if name in name_fixes:\n",
    "        return name_fixes[name]\n",
    "    else:\n",
    "        return name\n",
    "\n",
    "name_fixes = {\n",
    "    \"Corey Taylor\": \"Corey Blackett-Taylor\",\n",
    "    \"Craig Carl Curran\": \"Craig Curran\",\n",
    "    \"Chris Edwards\": \"Christian Edwards\",\n",
    "    \"Dave Nugent\": \"David Nugent\",\n",
    "    \"Dylan Mottley Henry\": \"Dylan Mottley-Henry\",\n",
    "    \"Ian Thomas-Moore\": \"Ian Moore\",\n",
    "    \"John-Louis Akpa Akpro\": \"Jean-Louis Akpa Akpro\",\n",
    "    \"John Morrissey\": \"Johnny Morrissey\",\n",
    "    \"Jonathon Margetts\": \"Johnny Margetts\",\n",
    "    \"Joseph Maguire\": \"Joe Maguire\",\n",
    "    \"Kaylden Brown\": \"Kayleden Brown\",\n",
    "    \"Lewis Sinnot\": \"Lewis Sinnott\",\n",
    "    \"Lateef Elford Alliyu\": \"Lateef Elford-Alliyu\",\n",
    "    \"Michael Jackson\": \"Mike Jackson\",\n",
    "    \"Richard Sutton\": \"Ritchie Sutton\",\n",
    "    \"Robert Taylor\": \"Rob Taylor\",\n",
    "    \"Steven O'Leary\": \"Stephen O'Leary\"\n",
    "}"
   ]
  },
  {
   "cell_type": "code",
   "execution_count": null,
   "metadata": {},
   "outputs": [],
   "source": [
    "managers_df = pd.read_csv(\"https://raw.githubusercontent.com/petebrown/complete-record/main/output/managers.csv\", parse_dates=[\"date_from\", \"date_to\"])\n",
    "\n",
    "managers_df.tail(3)"
   ]
  },
  {
   "cell_type": "code",
   "execution_count": null,
   "metadata": {},
   "outputs": [],
   "source": [
    "managers_df.to_csv('data/managers.csv', index = False)"
   ]
  },
  {
   "cell_type": "markdown",
   "metadata": {},
   "source": [
    "# Create `results_df`"
   ]
  },
  {
   "cell_type": "code",
   "execution_count": null,
   "metadata": {},
   "outputs": [],
   "source": [
    "def get_manager(game_date):\n",
    "    manager_name = \" & \".join(managers_df[(managers_df.date_from <= game_date) & (managers_df.date_to >= game_date)].manager_name)\n",
    "    \n",
    "    return manager_name\n",
    "\n",
    "results = pd.read_csv(\"https://raw.githubusercontent.com/petebrown/update-results/main/data/results_df.csv\", parse_dates = [\"game_date\"])\n",
    "\n",
    "results[\"manager\"] = results.game_date.apply(get_manager)\n",
    "\n",
    "results.loc[results.goals_for > results.goals_against, \"outcome\"] = \"W\"\n",
    "results.loc[results.goals_for == results.goals_against, \"outcome\"] = \"D\"\n",
    "results.loc[results.goals_for < results.goals_against, \"outcome\"] = \"L\"\n",
    "\n",
    "results.competition = results.competition.str.replace(r\"lay-[oO]ffs?\", \"lay-Offs\", regex = True)\n",
    "\n",
    "results.head(1)"
   ]
  },
  {
   "cell_type": "code",
   "execution_count": null,
   "metadata": {},
   "outputs": [],
   "source": [
    "league_positions = pd.read_csv(\"https://raw.githubusercontent.com/petebrown/league-position-tool/main/docs/input/results_mini.csv\", parse_dates = [\"game_date\"])[[\"game_date\", \"ranking\", \"pts\"]].rename(columns = {\"ranking\": \"league_pos\"}).sort_values(\"game_date\").reset_index(drop = True)\n",
    "\n",
    "league_positions.head(3)"
   ]
  },
  {
   "cell_type": "code",
   "execution_count": null,
   "metadata": {},
   "outputs": [],
   "source": [
    "results = pd.merge(results, league_positions, how = \"left\", on = \"game_date\")\n",
    "\n",
    "results.head(1)"
   ]
  },
  {
   "cell_type": "code",
   "execution_count": null,
   "metadata": {},
   "outputs": [],
   "source": [
    "cup_game_details = pd.read_csv(\"https://raw.githubusercontent.com/petebrown/complete-record/main/11v11-extra-details/cup_details.csv\", parse_dates = [\"game_date\"]).rename(columns = {\"extra_time\": \"aet\"})\n",
    "\n",
    "cup_game_details.loc[cup_game_details.game_date == \"1984-05-18\", \"cup_leg\"] = np.nan\n",
    "cup_game_details.loc[cup_game_details.game_date == \"1984-05-18\", \"cup_stage\"] = cup_game_details.loc[cup_game_details.game_date == \"1984-05-18\"].cup_stage.str.replace(\" (1st leg)\", \"\")\n",
    "\n",
    "cup_game_details.loc[cup_game_details.game_date.isin([\"2014-10-07\", \"2014-12-09\", \"1995-11-08\"]), \"aet\"] = 1\n",
    "\n",
    "cup_game_details.ko_time = pd.to_datetime(cup_game_details.ko_time.str.replace(\".\", \":\"), format = \n",
    "\"%I:%M%p\").dt.time\n",
    "cup_game_details.cup_replay = cup_game_details.cup_replay.replace(0, np.nan)\n",
    "cup_game_details.aet = cup_game_details.aet.replace(0, np.nan)\n",
    "\n",
    "cup_game_details.head(3)"
   ]
  },
  {
   "cell_type": "code",
   "execution_count": null,
   "metadata": {},
   "outputs": [],
   "source": [
    "def outcome_decider(row):\n",
    "    if row['pen_outcome'] is not np.nan:\n",
    "        return \"pens\"\n",
    "    elif row[\"away_goal_outcome\"] is not np.nan:\n",
    "        return \"away_goals\"\n",
    "    elif row[\"gg_outcome\"] is not np.nan:\n",
    "        return \"golden_goal\"\n",
    "    elif row[\"agg_outcome\"] is not np.nan:\n",
    "        if row[\"game_date\"] == pd.to_datetime(\"1975-08-26\"):\n",
    "            return \"replay\"\n",
    "        else:\n",
    "            return \"agg\"\n",
    "    else:\n",
    "        return np.nan\n",
    "    \n",
    "def get_cup_outcome(row):\n",
    "    if row[\"pen_outcome\"] is not np.nan:\n",
    "        return row[\"pen_outcome\"]\n",
    "    elif row[\"away_goal_outcome\"] is not np.nan:\n",
    "        return row[\"away_goal_outcome\"]\n",
    "    elif row[\"gg_outcome\"] is not np.nan:\n",
    "        return row[\"gg_outcome\"]\n",
    "    elif row[\"agg_outcome\"] is not np.nan:\n",
    "        return row[\"agg_outcome\"]\n",
    "    else:\n",
    "        return np.nan\n",
    "    \n",
    "def get_outcome_desc(row):\n",
    "    if row[\"pen_outcome\"] is not np.nan:\n",
    "        if row[\"agg_outcome\"] is not np.nan:\n",
    "            desc = row[\"agg_score\"] + \" on agg. \" + row[\"pen_outcome\"] + \" \" + row[\"pen_score\"] + \" on pens\"\n",
    "            desc = desc.replace(\"W \", \"Won \").replace(\"L \", \"Lost\")\n",
    "            return desc\n",
    "        else:\n",
    "            desc = row[\"pen_outcome\"] + \" \" + row[\"pen_score\"] + \" on pens\"\n",
    "            desc = desc.replace(\"W \", \"Won \").replace(\"L \", \"Lost \")\n",
    "            return desc\n",
    "    elif row[\"away_goal_outcome\"] is not np.nan:\n",
    "        desc = row[\"away_goal_outcome\"] + \" on away goals rule\"\n",
    "        desc = desc.replace(\"W \", \"Won \").replace(\"L \", \"Lost \")\n",
    "        return desc\n",
    "    elif row[\"gg_outcome\"] is not np.nan:\n",
    "        desc = row[\"gg_outcome\"] + \" on golden goal\"\n",
    "        desc = desc.replace(\"W \", \"Won \").replace(\"L \", \"Lost \")\n",
    "        return desc\n",
    "    elif row[\"agg_outcome\"] is not np.nan:\n",
    "        if row[\"game_date\"] == pd.to_datetime(\"1975-08-26\"):\n",
    "            return \"Game replayed\"\n",
    "        else:\n",
    "            desc = row[\"agg_outcome\"] + \" \" + row[\"agg_score\"] + \" on agg\"\n",
    "            desc = desc.replace(\"W \", \"Won \").replace(\"L \", \"Lost \")\n",
    "            return desc\n",
    "    else:\n",
    "        return np.nan\n",
    "    \n",
    "cup_game_details[\"decider\"] = cup_game_details.apply(outcome_decider, axis = 1)    \n",
    "cup_game_details[\"cup_outcome\"] = cup_game_details.apply(get_cup_outcome, axis = 1)\n",
    "cup_game_details[\"outcome_desc\"] = cup_game_details.apply(get_outcome_desc, axis = 1)"
   ]
  },
  {
   "cell_type": "code",
   "execution_count": null,
   "metadata": {},
   "outputs": [],
   "source": [
    "def calc_game_length(row):\n",
    "    if row[\"gg_outcome\"] is not np.nan:\n",
    "        return 116\n",
    "    elif row[\"aet\"] == 1 and row[\"gg_outcome\"] not in [\"W\", \"L\"]:\n",
    "        return 120\n",
    "    else:\n",
    "        return 90\n",
    "\n",
    "results_df = results.rename(columns = {\n",
    "    \"ssn_game_no\": \"game_no\",\n",
    "})[[\"season\", \"game_date\", \"game_no\", \"opposition\", \"venue\", \"score\", \"outcome\", \"goals_for\", \"goals_against\", \"goal_diff\", \"game_type\", \"competition\", \"generic_comp\", \"ssn_comp_game_no\", \"league_tier\", \"league_pos\", \"pts\", \"attendance\", \"weekday\", \"manager\"]]\n",
    "\n",
    "results_df = pd.merge(left = results_df, right = cup_game_details, how = \"left\", on = \"game_date\")\n",
    "\n",
    "results_df[\"game_length\"] = results_df.apply(calc_game_length, axis = 1)\n",
    "\n",
    "results_df.to_csv(\"data/results.csv\", index = False)"
   ]
  },
  {
   "cell_type": "markdown",
   "metadata": {},
   "source": [
    "# Create `goals_df`"
   ]
  },
  {
   "cell_type": "code",
   "execution_count": null,
   "metadata": {},
   "outputs": [],
   "source": [
    "sb_match_apps = pd.read_csv(\n",
    "    \"https://raw.githubusercontent.com/petebrown/update-player-stats/main/data/players_df.csv\",\n",
    "    parse_dates = [\"game_date\"]\n",
    ").rename(columns = {\n",
    "    \"sb_game_id\": \"game_id\",\n",
    "    \"sb_player_id\": \"player_id\",\n",
    "})\n",
    "\n",
    "sb_match_apps.game_id = sb_match_apps.game_id.str.replace(\"tpg\", \"\").astype(int)\n",
    "\n",
    "sb_match_apps.player_name = sb_match_apps.player_name.apply(fix_name)"
   ]
  },
  {
   "cell_type": "code",
   "execution_count": null,
   "metadata": {},
   "outputs": [],
   "source": [
    "sb_game_ids = sb_match_apps[[\"game_id\", \"game_date\", \"season\"]].drop_duplicates().sort_values(by = [\"game_date\"]).reset_index(drop = True)\n",
    "\n",
    "sb_game_ids.head(3)"
   ]
  },
  {
   "cell_type": "code",
   "execution_count": null,
   "metadata": {},
   "outputs": [],
   "source": [
    "sb_player_ids = sb_match_apps[[\"player_id\", \"player_name\"]].drop_duplicates().reset_index(drop = True)\n",
    "sb_player_ids.player_name = sb_player_ids.player_name.apply(fix_name)\n",
    "\n",
    "sb_player_ids.head(3)"
   ]
  },
  {
   "cell_type": "code",
   "execution_count": null,
   "metadata": {},
   "outputs": [],
   "source": [
    "game_nos = results[[\"game_date\", \"season\", \"ssn_game_no\"]].rename(columns = {\"ssn_game_no\": \"game_no\"}).sort_values([\"game_date\"]).reset_index(drop = True)\n",
    "\n",
    "game_nos.head(3)"
   ]
  },
  {
   "cell_type": "markdown",
   "metadata": {},
   "source": [
    "### Import goal details scraped from Soccerbase\n",
    "\n",
    "**Seasons:** 1996-97 - 2022/23\n",
    "\n",
    "**Fields:**\n",
    "- `player_name`\n",
    "- `minute`\n",
    "- `penalty` (0/1)\n",
    "- `own_goal` (0/1)\n",
    "- `game_date` _(after join)_"
   ]
  },
  {
   "cell_type": "code",
   "execution_count": null,
   "metadata": {},
   "outputs": [],
   "source": [
    "# Import Soccerbase goal details\n",
    "sb_goals = pd.read_csv(\"https://raw.githubusercontent.com/petebrown/scrape-goals/main/data/goals.csv\")\n",
    "\n",
    "# Filter for Tranmere goals\n",
    "sb_goals = sb_goals[sb_goals[\"goal_type\"] == \"for\"]\n",
    "\n",
    "# Fix player names\n",
    "sb_goals.player_name = sb_goals.player_name.apply(fix_name)\n",
    "\n",
    "# Add game dates via a join\n",
    "sb_goals = sb_goals.merge(sb_game_ids, on = \"game_id\", how = \"left\").sort_values([\"game_date\", \"minute\"])\n",
    "\n",
    "# Reduce to subset of columns\n",
    "sb_goals = sb_goals[[\"game_date\", \"player_name\", \"minute\", \"penalty\", \"own_goal\"]]\n",
    "\n",
    "sb_goals = sb_goals.rename(columns = {\"minute\": \"goal_min\"})\n",
    "\n",
    "sb_goals.head(3)"
   ]
  },
  {
   "cell_type": "markdown",
   "metadata": {},
   "source": [
    "### Import goals from Complete Record\n",
    "\n",
    "**Seasons:** 1921/22 - 1995/96 (after filter)\n",
    "\n",
    "**Fields:**\n",
    "\n",
    "* `game_date`\n",
    "* `player_name`\n",
    "* `goals_scored` (no. of goals scored by player in game)"
   ]
  },
  {
   "cell_type": "code",
   "execution_count": null,
   "metadata": {},
   "outputs": [],
   "source": [
    "# Import Complete Record goal details and convert to a dictionary\n",
    "all_goals = pd.read_csv(\"https://raw.githubusercontent.com/petebrown/complete-record/main/output/scorers-long.csv\").merge(game_nos, how = \"left\", on = [\"season\", \"game_no\"])[[\"season\", \"game_date\", \"player_name\", \"goals_scored\"]].to_dict(\"records\")\n",
    "\n",
    "# Initiate empty list for goals\n",
    "cr_goals = []\n",
    "\n",
    "# Loop through each goal and one for every goal in goals_scored column\n",
    "for goal in all_goals:\n",
    "    n_goals = goal[\"goals_scored\"]\n",
    "\n",
    "    for i in range(n_goals):\n",
    "        cr_goals.append(goal)\n",
    "\n",
    "# Convert to Pandas dataframe\n",
    "cr_goals = pd.DataFrame(cr_goals).drop(\"goals_scored\", axis = 1)\n",
    "\n",
    "# Add own_goal column to match sb_goals\n",
    "cr_goals.loc[cr_goals.player_name == \"OG\", \"own_goal\"] = 1\n",
    "cr_goals.loc[cr_goals.player_name != \"OG\", \"own_goal\"] = 0\n",
    "cr_goals.own_goal = cr_goals.own_goal.astype(int)\n",
    "\n",
    "# Filter for seasons covered by Soccerbase data, i.e. before 1996/97\n",
    "cr_goals = cr_goals[cr_goals.season < \"1996\"]\n",
    "\n",
    "# Drop the season column\n",
    "cr_goals = cr_goals.drop(\"season\", axis = 1)\n",
    "\n",
    "cr_goals.head(3)"
   ]
  },
  {
   "cell_type": "markdown",
   "metadata": {},
   "source": [
    "### Import manually collected goal minutes"
   ]
  },
  {
   "cell_type": "code",
   "execution_count": null,
   "metadata": {},
   "outputs": [],
   "source": [
    "# Import manually collected goal minute data\n",
    "cr_goal_mins = pd.read_csv(\"https://raw.githubusercontent.com/petebrown/complete-record/main/seasons/manual/goal_mins.csv\", parse_dates = [\"game_date\"]).sort_values([\"game_date\", \"goal_min\"])\n",
    "\n",
    "# Amend penalty column to 0/1\n",
    "cr_goal_mins.penalty = cr_goal_mins.penalty.apply(lambda x: 1 if x == \"pen\" else 0)\n",
    "\n",
    "# Add goal numbers for each player in each game, e.g. 1-3 for a hat-trick\n",
    "cr_goal_mins[\"pl_goal_no\"] = cr_goal_mins.groupby([\"player_name\", \"game_date\"]).cumcount() + 1\n",
    "\n",
    "cr_goal_mins.head(3)"
   ]
  },
  {
   "cell_type": "markdown",
   "metadata": {},
   "source": [
    "### Join manually collected goal minutes to Complete Record goal data"
   ]
  },
  {
   "cell_type": "code",
   "execution_count": null,
   "metadata": {},
   "outputs": [],
   "source": [
    "# For join: add goal numbers for each player in each game, e.g. 1-3 for a hat-trick\n",
    "cr_goals[\"pl_goal_no\"] = cr_goals.groupby([\"player_name\", \"game_date\"]).cumcount() + 1\n",
    "\n",
    "# Merge goal minutes with Complete Record goal data and drop temporary pl_goal_no column\n",
    "cr_goals = cr_goals.merge(cr_goal_mins, how = \"left\", on = [\"game_date\", \"player_name\", \"pl_goal_no\"]).drop(columns = [\"pl_goal_no\"])\n",
    "\n",
    "cr_goals.head(3)"
   ]
  },
  {
   "cell_type": "markdown",
   "metadata": {},
   "source": [
    "### Import FA Trophy goals\n",
    "\n",
    "**Fields:**\n",
    "\n",
    "* `game_date`\n",
    "* `player_name`\n",
    "* `minute`\n",
    "* `penalty` (0/1)\n",
    "* `own_goal` (0/1)"
   ]
  },
  {
   "cell_type": "code",
   "execution_count": null,
   "metadata": {},
   "outputs": [],
   "source": [
    "fa_trophy_goals = pd.read_csv(\"https://raw.githubusercontent.com/petebrown/complete-record/main/fa-trophy/fa_trophy_goals.csv\", parse_dates = [\"game_date\"]).rename(columns = {\"minute\": \"goal_min\"})\n",
    "\n",
    "fa_trophy_goals.head(3)"
   ]
  },
  {
   "cell_type": "code",
   "execution_count": null,
   "metadata": {},
   "outputs": [],
   "source": [
    "# Concatenate Complete Record and Soccerbase goal dataframes\n",
    "goals_df = pd.concat([cr_goals, sb_goals, fa_trophy_goals], axis = 0)\n",
    "\n",
    "goals_df = goals_df.sort_values(by = [\"game_date\", \"goal_min\"])[[\"game_date\", \"player_name\", \"goal_min\", \"penalty\", \"own_goal\"]]\n",
    "\n",
    "goals_df.head(3)"
   ]
  },
  {
   "cell_type": "markdown",
   "metadata": {},
   "source": [
    "#### Save goals to CSV"
   ]
  },
  {
   "cell_type": "code",
   "execution_count": null,
   "metadata": {},
   "outputs": [],
   "source": [
    "goals_df.to_csv('data/goals.csv', index=False)"
   ]
  },
  {
   "cell_type": "markdown",
   "metadata": {},
   "source": [
    "# Create `sub_mins_df`"
   ]
  },
  {
   "cell_type": "code",
   "execution_count": null,
   "metadata": {},
   "outputs": [],
   "source": [
    "season_dates = results[[\"game_date\", \"season\"]].drop_duplicates().sort_values(\"game_date\").reset_index(drop=True)\n",
    "\n",
    "season_dates.head(3)"
   ]
  },
  {
   "cell_type": "code",
   "execution_count": null,
   "metadata": {},
   "outputs": [],
   "source": [
    "game_nos = season_dates.copy()\n",
    "game_nos[\"game_no\"] = game_nos.sort_values(\"game_date\").groupby(\"season\").cumcount() + 1\n",
    "\n",
    "game_nos.head(3)"
   ]
  },
  {
   "cell_type": "code",
   "execution_count": null,
   "metadata": {},
   "outputs": [],
   "source": [
    "sb_game_ids.head(3)"
   ]
  },
  {
   "cell_type": "code",
   "execution_count": null,
   "metadata": {},
   "outputs": [],
   "source": [
    "sb_player_ids.head(3)"
   ]
  },
  {
   "cell_type": "code",
   "execution_count": null,
   "metadata": {},
   "outputs": [],
   "source": [
    "# Import Soccerbase subs and red card CSV\n",
    "sb_sub_mins = pd.read_csv(\"https://raw.githubusercontent.com/petebrown/scrape-events/main/data/subs-and-reds.csv\").merge(sb_game_ids, how = \"left\", on = \"game_id\") \\\n",
    "    .merge(sb_player_ids, how = \"left\", on = \"player_id\") \\\n",
    "    .sort_values(\"game_date\") \\\n",
    "    [[\"game_date\", \"player_name\", \"min_on\", \"min_off\"]].reset_index(drop = True)\n",
    "\n",
    "# Import manual fixes to Soccerbase sub data\n",
    "sb_sub_min_fixes = pd.read_csv(\"https://raw.githubusercontent.com/petebrown/complete-record/main/seasons/manual/sb_sub_fixes.csv\", parse_dates = [\"game_date\"])[[\"game_date\", \"player_name\", \"min_on\", \"min_off\"]]\n",
    "\n",
    " # Fix known error with Luke Norris sub v. Barrow \n",
    "sb_sub_mins.loc[(sb_sub_mins.game_date == \"2023-08-05\") & (sb_sub_mins.player_name == \"Luke Norris\"), 'min_off'] = np.nan\n",
    "\n",
    "# Filter out sendings off\n",
    "sb_sub_mins = sb_sub_mins[~((sb_sub_mins.min_on.isna()) & (sb_sub_mins.min_off.isna()))]\n",
    "\n",
    "# Filter out records for dates with manual fixes\n",
    "sb_sub_mins = sb_sub_mins[~sb_sub_mins.game_date.isin(sb_sub_min_fixes.game_date.unique())]\n",
    "\n",
    "# Append manual fixes to Soccerbase sub data\n",
    "sb_sub_mins = pd.concat([sb_sub_mins, sb_sub_min_fixes]).sort_values(\"game_date\").reset_index(drop = True)\n",
    "\n",
    "sb_sub_mins.head(3)"
   ]
  },
  {
   "cell_type": "code",
   "execution_count": null,
   "metadata": {},
   "outputs": [],
   "source": [
    "cr_sub_mins = pd.read_csv(\"https://raw.githubusercontent.com/petebrown/complete-record/main/output/cr_subs_and_reds.csv\", parse_dates = [\"game_date\"], na_values = [\"0\"])[[\"game_date\", \"player_name\", \"min_off\", \"min_on\"]]\n",
    "\n",
    "cr_sub_mins.head(3)"
   ]
  },
  {
   "cell_type": "code",
   "execution_count": null,
   "metadata": {},
   "outputs": [],
   "source": [
    "fa_trophy_sub_mins = pd.read_csv(\"https://raw.githubusercontent.com/petebrown/complete-record/main/fa-trophy/fa_trophy_fixtures.csv\", parse_dates = [\"game_date\"])[[\"game_date\", \"player_name\", \"min_off\", \"min_on\"]].query(\"min_off > 0 or min_on > 0\")\n",
    "\n",
    "fa_trophy_sub_mins.head(3)"
   ]
  },
  {
   "cell_type": "code",
   "execution_count": null,
   "metadata": {},
   "outputs": [],
   "source": [
    "sub_mins_df = pd.concat([cr_sub_mins, sb_sub_mins, fa_trophy_sub_mins]).sort_values(\"game_date\").reset_index(drop = True)\n",
    "\n",
    "sub_mins_df.head(3)"
   ]
  },
  {
   "cell_type": "markdown",
   "metadata": {},
   "source": [
    "# Create `shirt_nos_df`"
   ]
  },
  {
   "cell_type": "code",
   "execution_count": null,
   "metadata": {},
   "outputs": [],
   "source": [
    "sub_mins_df.to_csv('data/sub_mins.csv', index = False)"
   ]
  },
  {
   "cell_type": "code",
   "execution_count": null,
   "metadata": {},
   "outputs": [],
   "source": [
    "shirt_nos_df = pd.read_csv(\"https://raw.githubusercontent.com/petebrown/complete-record/main/squad_nos/squad_nos.csv\")\n",
    "\n",
    "shirt_nos_df.head(3)"
   ]
  },
  {
   "cell_type": "markdown",
   "metadata": {},
   "source": [
    "# Create `red_cards_df`"
   ]
  },
  {
   "cell_type": "code",
   "execution_count": null,
   "metadata": {},
   "outputs": [],
   "source": [
    "cr_red_cards = pd.read_csv(\"https://raw.githubusercontent.com/petebrown/complete-record/main/seasons/manual/cards_red.csv\", parse_dates = [\"game_date\"])\n",
    "\n",
    "cr_red_cards.head(3)"
   ]
  },
  {
   "cell_type": "code",
   "execution_count": null,
   "metadata": {},
   "outputs": [],
   "source": [
    "sb_red_cards = pd.read_csv(\"https://raw.githubusercontent.com/petebrown/scrape-events/main/data/subs-and-reds.csv\").merge(sb_game_ids, how = \"left\", on = \"game_id\").merge(sb_player_ids, how = \"left\", on = \"player_id\")[[\"game_date\", \"player_name\", \"min_so\"]].sort_values(\"game_date\")\n",
    "\n",
    "sb_red_cards = sb_red_cards[~sb_red_cards.min_so.isna()].reset_index(drop = True)\n",
    "\n",
    "sb_red_cards.head(3)"
   ]
  },
  {
   "cell_type": "code",
   "execution_count": null,
   "metadata": {},
   "outputs": [],
   "source": [
    "fa_trophy_reds = pd.read_csv(\"https://raw.githubusercontent.com/petebrown/complete-record/main/fa-trophy/fa_trophy_cards.csv\", parse_dates = [\"game_date\"])[[\"game_date\", \"player_name\", \"red_card\", \"min_so\"]].query(\"red_card == 1\").drop(columns = \"red_card\").reset_index(drop = True)\n",
    "\n",
    "fa_trophy_reds.head(3)"
   ]
  },
  {
   "cell_type": "code",
   "execution_count": null,
   "metadata": {},
   "outputs": [],
   "source": [
    "red_cards_df = pd.concat([cr_red_cards, sb_red_cards, fa_trophy_reds], axis = 0).sort_values([\"game_date\", \"min_so\"]).reset_index(drop = True)\n",
    "\n",
    "red_cards_df.head(3)"
   ]
  },
  {
   "cell_type": "markdown",
   "metadata": {},
   "source": [
    "#### Save red_cards to CSV"
   ]
  },
  {
   "cell_type": "code",
   "execution_count": null,
   "metadata": {},
   "outputs": [],
   "source": [
    "red_cards_df.to_csv('data/red_cards.csv', index = False)"
   ]
  },
  {
   "cell_type": "markdown",
   "metadata": {},
   "source": [
    "# Create `yellow_cards_df`"
   ]
  },
  {
   "cell_type": "code",
   "execution_count": null,
   "metadata": {},
   "outputs": [],
   "source": [
    "cr_yellows = pd.read_csv(\"https://raw.githubusercontent.com/petebrown/complete-record/main/seasons/manual/cards_yellow.csv\", parse_dates = [\"game_date\"])\n",
    "\n",
    "cr_yellows.head(3)"
   ]
  },
  {
   "cell_type": "code",
   "execution_count": null,
   "metadata": {},
   "outputs": [],
   "source": [
    "sb_yellows = sb_match_apps[[\"game_date\", \"player_name\", \"yellow_cards\"]].query(\"yellow_cards > 0\").sort_values(by = \"game_date\")\n",
    "\n",
    "sb_yellows.head(3)"
   ]
  },
  {
   "cell_type": "code",
   "execution_count": null,
   "metadata": {},
   "outputs": [],
   "source": [
    "fa_trophy_yellows = pd.read_csv(\"https://raw.githubusercontent.com/petebrown/complete-record/main/fa-trophy/fa_trophy_cards.csv\", parse_dates = [\"game_date\"])[[\"game_date\", \"player_name\", \"yellow_card\"]].query(\"yellow_card == 1\").rename(columns = {\"yellow_card\": \"yellow_cards\"})\n",
    "\n",
    "fa_trophy_yellows.head(3)"
   ]
  },
  {
   "cell_type": "code",
   "execution_count": null,
   "metadata": {},
   "outputs": [],
   "source": [
    "yellow_cards_df = pd.concat([cr_yellows, sb_yellows, fa_trophy_yellows], axis = 0).sort_values(by = \"game_date\").drop(columns=[\"yellow_cards\"]).reset_index(drop = True)\n",
    "\n",
    "yellow_cards_df.head(3)"
   ]
  },
  {
   "cell_type": "markdown",
   "metadata": {},
   "source": [
    "#### Save yellow_cards to CSV"
   ]
  },
  {
   "cell_type": "code",
   "execution_count": null,
   "metadata": {},
   "outputs": [],
   "source": [
    "yellow_cards_df.to_csv('data/yellow_cards.csv', index = False)"
   ]
  },
  {
   "cell_type": "markdown",
   "metadata": {},
   "source": [
    "# Create `player_apps_df`"
   ]
  },
  {
   "cell_type": "code",
   "execution_count": null,
   "metadata": {},
   "outputs": [],
   "source": [
    "pl_ssns_9798 = pd.read_csv(\"https://raw.githubusercontent.com/petebrown/complete-record/main/output/player_ssns_9798.csv\")\n",
    "pl_ssns_9798.head(3)"
   ]
  },
  {
   "cell_type": "code",
   "execution_count": null,
   "metadata": {},
   "outputs": [],
   "source": [
    "pl_ssns_9899 = pd.read_csv(\"https://raw.githubusercontent.com/petebrown/complete-record/main/output/player_ssns_9899.csv\")\n",
    "pl_ssns_9899.head(3)"
   ]
  },
  {
   "cell_type": "code",
   "execution_count": null,
   "metadata": {},
   "outputs": [],
   "source": [
    "pl_ssns = pd.read_csv(\"https://raw.githubusercontent.com/petebrown/complete-record/main/output/player_ssns.csv\")\n",
    "pl_ssns.head(3)"
   ]
  },
  {
   "cell_type": "code",
   "execution_count": null,
   "metadata": {},
   "outputs": [],
   "source": [
    "cr_pl_ssns = pd.concat([pl_ssns, pl_ssns_9798, pl_ssns_9899], axis = 0).sort_values(by = [\"surname\", \"forename\", \"ssn\"]).reset_index(drop = True)\n",
    "cr_pl_ssns.head(3)"
   ]
  },
  {
   "cell_type": "code",
   "execution_count": null,
   "metadata": {},
   "outputs": [],
   "source": [
    "cr_pl_ssns_prepped = cr_pl_ssns[[\"season\", \"disam_name\", \"player_name\"]].drop_duplicates().reset_index(drop = True)\n",
    "\n",
    "cr_player_apps = pd.read_csv(\"https://raw.githubusercontent.com/petebrown/complete-record/main/output/apps_long.csv\") \\\n",
    "    .merge(game_nos, how = \"left\", on = [\"season\", \"game_no\"]) \\\n",
    "    .merge(cr_pl_ssns_prepped, how = \"left\", left_on = [\"season\", \"player_name\"], right_on = [\"season\", \"disam_name\"]) \\\n",
    "    .rename(columns = {\"player_name_y\": \"player_name\"}) \\\n",
    "    [[\"game_date\", \"player_name\", \"shirt_no\", \"role\"]]\n",
    "\n",
    "cr_player_apps.head(3)"
   ]
  },
  {
   "cell_type": "code",
   "execution_count": null,
   "metadata": {},
   "outputs": [],
   "source": [
    "fa_trophy_player_apps = pd.read_csv(\"https://raw.githubusercontent.com/petebrown/complete-record/main/fa-trophy/fa_trophy_fixtures.csv\", parse_dates = [\"game_date\"])[[\"game_date\", \"player_name\", \"shirt_no\", \"role\"]]\n",
    "\n",
    "fa_trophy_player_apps.head(3)"
   ]
  },
  {
   "cell_type": "code",
   "execution_count": null,
   "metadata": {},
   "outputs": [],
   "source": [
    "def get_squad_no(season, player_name, game_date):\n",
    "    try:\n",
    "        if season == \"2014/15\" and player_name == \"Janoi Donacien\" and game_date < pd.Timestamp(\"2015-03-07\"):\n",
    "            return 19\n",
    "        elif season == \"2014/15\" and player_name == \"Janoi Donacien\" and game_date >= pd.Timestamp(\"2015-03-07\"):\n",
    "            return  12\n",
    "        else:\n",
    "            return shirt_nos_df[(shirt_nos_df.season == season) & (shirt_nos_df.player_name == player_name)].squad_no.values[0]\n",
    "    except:\n",
    "        return None\n",
    "\n",
    "sb_player_apps = sb_match_apps[~sb_match_apps.season.isin([\"1996/97\", \"1997/98\", \"1998/99\"])][[\"game_date\", \"player_name\"]].copy()\n",
    "\n",
    "sb_player_apps[\"shirt_no\"] = sb_match_apps.apply(lambda x: get_squad_no(x.season, x.player_name, x.game_date), axis = 1)"
   ]
  },
  {
   "cell_type": "code",
   "execution_count": null,
   "metadata": {},
   "outputs": [],
   "source": [
    "def get_role(game_date, player_name):\n",
    "    subs = sub_mins_df[~sub_mins_df.min_on.isna()].drop(columns=['min_off', 'min_on'])\n",
    "\n",
    "    subs = subs[(subs.game_date == game_date) & (subs.player_name == player_name)]\n",
    "\n",
    "    if subs.empty:\n",
    "        return \"starter\"\n",
    "    else:\n",
    "        return \"sub\"\n",
    "\n",
    "sb_player_apps[\"role\"] = sb_player_apps.apply(lambda x: get_role(x.game_date, x.player_name), axis=1)\n",
    "\n",
    "sb_player_apps.head(3)"
   ]
  },
  {
   "cell_type": "code",
   "execution_count": null,
   "metadata": {},
   "outputs": [],
   "source": [
    "player_apps = pd.concat([cr_player_apps, sb_player_apps, fa_trophy_player_apps], axis = 0).sort_values(by = [\"game_date\", \"role\", \"shirt_no\"]).reset_index(drop = True)\n",
    "\n",
    "player_apps.head(3)"
   ]
  },
  {
   "cell_type": "markdown",
   "metadata": {},
   "source": [
    "#### Save player_apps to csv"
   ]
  },
  {
   "cell_type": "code",
   "execution_count": null,
   "metadata": {},
   "outputs": [],
   "source": [
    "player_apps.to_csv('data/players_apps.csv', index = False)"
   ]
  },
  {
   "cell_type": "markdown",
   "metadata": {},
   "source": [
    "# Create `subs_df`"
   ]
  },
  {
   "cell_type": "code",
   "execution_count": null,
   "metadata": {},
   "outputs": [],
   "source": [
    "cr_subs = pd.read_csv(\"https://raw.githubusercontent.com/petebrown/complete-record/main/output/apps_long.csv\").merge(game_nos, how = \"left\", on = [\"season\", \"game_no\"]) \\\n",
    "    .merge(cr_pl_ssns_prepped, how = \"left\", left_on = [\"season\", \"player_name\"], right_on = [\"season\", \"disam_name\"]) \\\n",
    "    .rename(columns = {\"player_name_y\": \"player_name\"}) \\\n",
    "    .sort_values([\"game_date\", \"shirt_no\"]) \\\n",
    "    [[\"game_date\", \"shirt_no\", \"player_name\", \"on_for\", \"off_for\"]]\n",
    "\n",
    "cr_subs = cr_subs[(cr_subs.on_for.notnull()) | (cr_subs.off_for.notnull())]\n",
    "cr_subs.head(3)"
   ]
  },
  {
   "cell_type": "code",
   "execution_count": null,
   "metadata": {},
   "outputs": [],
   "source": [
    "sb_subs = sb_sub_mins[~sb_sub_mins.game_date.isin(cr_subs.game_date)].copy()\n",
    "sb_subs.query(\"game_date == '2023-08-05'\")"
   ]
  },
  {
   "cell_type": "code",
   "execution_count": null,
   "metadata": {},
   "outputs": [],
   "source": [
    "# Import Soccerbase subs and red card CSV\n",
    "sb_subs = sb_sub_mins[~sb_sub_mins.game_date.isin(cr_subs.game_date)].copy()\n",
    "\n",
    "# Get lower number from min_on and min_off\n",
    "sb_subs['sub_min'] = sb_subs[['min_on', 'min_off']].min(axis = 1)\n",
    "\n",
    "sb_subs_on = sb_subs[sb_subs.min_on.notnull()]\n",
    "sb_subs_off = sb_subs[sb_subs.min_off.notnull()]\n",
    "\n",
    "sb_subs_on.head(3)"
   ]
  },
  {
   "cell_type": "code",
   "execution_count": null,
   "metadata": {},
   "outputs": [],
   "source": [
    "sb_subs_on_unique = sb_subs_on[[\"game_date\", \"min_on\"]].copy()\n",
    "\n",
    "sb_subs_on_unique = sb_subs_on_unique.groupby([sb_subs_on_unique.game_date, sb_subs_on_unique.min_on]).size().reset_index(name='count').query('count == 1').drop(columns = {\"count\"})\n",
    "\n",
    "sb_subs_on_unique = sb_subs_on.merge(sb_subs_on_unique, on = [\"game_date\", \"min_on\"], how = \"inner\") \\\n",
    "    .merge(player_apps, left_on = [\"game_date\", \"player_name\"], right_on = [\"game_date\", \"player_name\"], how = \"inner\") \\\n",
    "    [[\"game_date\", \"shirt_no\", \"player_name\", \"min_on\"]]\n",
    "\n",
    "sb_subs_on_unique.head(3)"
   ]
  },
  {
   "cell_type": "code",
   "execution_count": null,
   "metadata": {},
   "outputs": [],
   "source": [
    "sb_subs_off_unique = sb_subs_off[[\"game_date\", \"min_off\"]].copy()\n",
    "\n",
    "sb_subs_off_unique = sb_subs_off_unique.groupby([sb_subs_off_unique.game_date, sb_subs_off_unique.min_off]).size().reset_index(name='count').query('count == 1').drop(columns = {\"count\"})\n",
    "\n",
    "sb_subs_off_unique = sb_subs_off.merge(sb_subs_off_unique, on = [\"game_date\", \"min_off\"], how = \"inner\") \\\n",
    "    .merge(player_apps, left_on = [\"game_date\", \"player_name\"], right_on = [\"game_date\", \"player_name\"], how = \"inner\") \\\n",
    "    [[\"game_date\", \"shirt_no\", \"player_name\", \"min_off\"]]\n",
    "\n",
    "sb_subs_off_unique.tail(10)"
   ]
  },
  {
   "cell_type": "code",
   "execution_count": null,
   "metadata": {},
   "outputs": [],
   "source": [
    "sb_subs_1 = pd.merge(left = sb_subs_on_unique, right = sb_subs_off_unique, how = \"inner\", left_on = [\"game_date\", \"min_on\"], right_on = [\"game_date\", \"min_off\"]) \\\n",
    ".rename(\n",
    "    columns = {\n",
    "        \"shirt_no_x\": \"shirt_no\",\n",
    "        \"player_name_x\": \"player_name\",\n",
    "        \"shirt_no_y\": \"on_for\",\n",
    "    }\n",
    ")[[\"game_date\", \"shirt_no\", \"player_name\", \"min_on\", \"on_for\"]]\n",
    "\n",
    "sb_subs_1.head(3)"
   ]
  },
  {
   "cell_type": "code",
   "execution_count": null,
   "metadata": {},
   "outputs": [],
   "source": [
    "sb_subs_2 = pd.merge(left = sb_subs_on_unique, right = sb_subs_off_unique, how = \"inner\", left_on = [\"game_date\", \"min_on\"], right_on = [\"game_date\", \"min_off\"]) \\\n",
    "    .rename(\n",
    "        columns = {\n",
    "            \"shirt_no_y\": \"shirt_no\",\n",
    "            \"player_name_y\": \"player_name\",\n",
    "            \"shirt_no_x\": \"off_for\",\n",
    "        }\n",
    "    )[[\"game_date\", \"shirt_no\", \"player_name\", \"min_off\", \"off_for\"]]\n",
    "\n",
    "sb_subs_2.head(3)"
   ]
  },
  {
   "cell_type": "code",
   "execution_count": null,
   "metadata": {},
   "outputs": [],
   "source": [
    "sb_subs = pd.concat([sb_subs_1, sb_subs_2], axis = 0).sort_values(\"game_date\").reset_index(drop = True)[[\"game_date\", \"shirt_no\", \"player_name\", \"on_for\", \"off_for\"]]\n",
    "\n",
    "sb_subs.head(3)"
   ]
  },
  {
   "cell_type": "code",
   "execution_count": null,
   "metadata": {},
   "outputs": [],
   "source": [
    "# Import manual sub fixes\n",
    "sb_sub_fixes = pd.read_csv(\"https://raw.githubusercontent.com/petebrown/complete-record/main/seasons/manual/sb_sub_fixes.csv\", parse_dates = [\"game_date\"])[[\"game_date\", \"shirt_no\", \"player_name\", \"on_for\", \"off_for\"]].sort_values([\"game_date\"])\n",
    "\n",
    "sb_sub_fixes.head(3)"
   ]
  },
  {
   "cell_type": "code",
   "execution_count": null,
   "metadata": {},
   "outputs": [],
   "source": [
    "fa_trophy_subs = pd.read_csv(\"https://raw.githubusercontent.com/petebrown/complete-record/main/fa-trophy/fa_trophy_fixtures.csv\", parse_dates = [\"game_date\"])[[\"game_date\", \"shirt_no\", \"player_name\", \"on_for\", \"off_for\"]].query(\"on_for > 0 or off_for > 0\")\n",
    "\n",
    "fa_trophy_subs.head(3)"
   ]
  },
  {
   "cell_type": "code",
   "execution_count": null,
   "metadata": {},
   "outputs": [],
   "source": [
    "subs_df = pd.concat([cr_subs, sb_subs, fa_trophy_subs], axis = 0).query(\"~game_date.isin(@sb_sub_fixes.game_date)\")\n",
    "\n",
    "subs_df = pd.concat([subs_df, sb_sub_fixes], axis = 0).sort_values(\"game_date\").reset_index(drop = True)[[\"game_date\", \"shirt_no\", \"player_name\", \"on_for\", \"off_for\"]]\n",
    "\n",
    "subs_df.head(3)"
   ]
  },
  {
   "cell_type": "markdown",
   "metadata": {},
   "source": [
    "#### Save subs_df to CSV"
   ]
  },
  {
   "cell_type": "code",
   "execution_count": null,
   "metadata": {},
   "outputs": [],
   "source": [
    "subs_df.to_csv(\"data/subs.csv\", index = False)"
   ]
  },
  {
   "cell_type": "code",
   "execution_count": null,
   "metadata": {},
   "outputs": [],
   "source": [
    "game_lengths = results_df[[\"game_date\", \"game_length\"]]\n",
    "\n",
    "game_lengths.head(3)"
   ]
  },
  {
   "cell_type": "code",
   "execution_count": null,
   "metadata": {},
   "outputs": [],
   "source": [
    "def calc_mins_played(row):\n",
    "    role = row[\"role\"]\n",
    "    min_on = row[\"min_on\"]\n",
    "    min_off = row[\"min_off\"]\n",
    "    min_so = row[\"min_so\"]\n",
    "    game_length = row[\"game_length\"]\n",
    "    \n",
    "    # Started, played to end\n",
    "    if role == \"starter\" and np.isnan(min_off) and np.isnan(min_so):\n",
    "        return game_length\n",
    "    # Started, sent off\n",
    "    elif role == \"starter\" and not np.isnan(min_so):\n",
    "        return min_so\n",
    "    # Started, subbed off\n",
    "    elif role == \"starter\" and not np.isnan(min_off):\n",
    "        return min_off\n",
    "    # Subbed on, played to end\n",
    "    elif role == \"sub\" and np.isnan(min_off):\n",
    "        return game_length - min_on\n",
    "    # Subbed on, sent off\n",
    "    elif role == \"sub\" and not np.isnan(min_so):\n",
    "        return min_so - min_on\n",
    "    # Subbed on, subbed off\n",
    "    elif role == \"sub\" and not np.isnan(min_off):\n",
    "        return min_off - min_on\n",
    "    else:\n",
    "        return \"OTHER\"\n",
    "    \n",
    "\n",
    "player_events = player_apps \\\n",
    "    .merge(sub_mins_df, how = \"left\", on = [\"game_date\", \"player_name\"]) \\\n",
    "    .merge(red_cards_df, how = \"left\", on = [\"game_date\", \"player_name\"]) \\\n",
    "    .merge(game_lengths, how = \"left\", on = [\"game_date\"])\n",
    "\n",
    "player_events[\"mins_played\"] = player_events.apply(calc_mins_played, axis = 1)\n",
    "\n",
    "player_events.head()"
   ]
  },
  {
   "cell_type": "code",
   "execution_count": null,
   "metadata": {},
   "outputs": [],
   "source": [
    "player_events[(player_events.role == \"sub\") & (np.isnan(player_events.min_on))].tail(10)"
   ]
  },
  {
   "cell_type": "code",
   "execution_count": null,
   "metadata": {},
   "outputs": [],
   "source": []
  }
 ],
 "metadata": {
  "kernelspec": {
   "display_name": "Python 3",
   "language": "python",
   "name": "python3"
  },
  "language_info": {
   "codemirror_mode": {
    "name": "ipython",
    "version": 3
   },
   "file_extension": ".py",
   "mimetype": "text/x-python",
   "name": "python",
   "nbconvert_exporter": "python",
   "pygments_lexer": "ipython3",
   "version": "3.11.3"
  },
  "orig_nbformat": 4
 },
 "nbformat": 4,
 "nbformat_minor": 2
}
