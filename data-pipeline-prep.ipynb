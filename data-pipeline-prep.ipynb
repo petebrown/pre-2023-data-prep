{
 "cells": [
  {
   "cell_type": "code",
   "execution_count": 2,
   "metadata": {},
   "outputs": [],
   "source": [
    "import pandas as pd\n",
    "import numpy as np"
   ]
  },
  {
   "cell_type": "code",
   "execution_count": 3,
   "metadata": {},
   "outputs": [],
   "source": [
    "def fix_name(name):\n",
    "    if name in name_fixes:\n",
    "        return name_fixes[name]\n",
    "    else:\n",
    "        return name\n",
    "\n",
    "name_fixes = {\n",
    "    \"Corey Taylor\": \"Corey Blackett-Taylor\",\n",
    "    \"Craig Carl Curran\": \"Craig Curran\",\n",
    "    \"Chris Edwards\": \"Christian Edwards\",\n",
    "    \"Dave Nugent\": \"David Nugent\",\n",
    "    \"Dylan Mottley Henry\": \"Dylan Mottley-Henry\",\n",
    "    \"Ian Thomas-Moore\": \"Ian Moore\",\n",
    "    \"John-Louis Akpa Akpro\": \"Jean-Louis Akpa Akpro\",\n",
    "    \"John Morrissey\": \"Johnny Morrissey\",\n",
    "    \"Jonathon Margetts\": \"Johnny Margetts\",\n",
    "    \"Joseph Maguire\": \"Joe Maguire\",\n",
    "    \"Kaylden Brown\": \"Kayleden Brown\",\n",
    "    \"Lewis Sinnot\": \"Lewis Sinnott\",\n",
    "    \"Lateef Elford Alliyu\": \"Lateef Elford-Alliyu\",\n",
    "    \"Michael Jackson\": \"Mike Jackson\",\n",
    "    \"Richard Sutton\": \"Ritchie Sutton\",\n",
    "    \"Robert Taylor\": \"Rob Taylor\",\n",
    "    \"Steven O'Leary\": \"Stephen O'Leary\"\n",
    "}"
   ]
  },
  {
   "cell_type": "code",
   "execution_count": 4,
   "metadata": {},
   "outputs": [
    {
     "data": {
      "text/html": [
       "<div>\n",
       "<style scoped>\n",
       "    .dataframe tbody tr th:only-of-type {\n",
       "        vertical-align: middle;\n",
       "    }\n",
       "\n",
       "    .dataframe tbody tr th {\n",
       "        vertical-align: top;\n",
       "    }\n",
       "\n",
       "    .dataframe thead th {\n",
       "        text-align: right;\n",
       "    }\n",
       "</style>\n",
       "<table border=\"1\" class=\"dataframe\">\n",
       "  <thead>\n",
       "    <tr style=\"text-align: right;\">\n",
       "      <th></th>\n",
       "      <th>manager_name</th>\n",
       "      <th>date_from</th>\n",
       "      <th>date_to</th>\n",
       "      <th>role</th>\n",
       "    </tr>\n",
       "  </thead>\n",
       "  <tbody>\n",
       "    <tr>\n",
       "      <th>49</th>\n",
       "      <td>Ian Dawes</td>\n",
       "      <td>2023-03-20</td>\n",
       "      <td>2023-05-04</td>\n",
       "      <td>Caretaker</td>\n",
       "    </tr>\n",
       "    <tr>\n",
       "      <th>50</th>\n",
       "      <td>Ian Dawes</td>\n",
       "      <td>2023-05-04</td>\n",
       "      <td>2023-09-10</td>\n",
       "      <td>Manager</td>\n",
       "    </tr>\n",
       "    <tr>\n",
       "      <th>51</th>\n",
       "      <td>Nigel Adkins</td>\n",
       "      <td>2023-09-10</td>\n",
       "      <td>2024-04-27</td>\n",
       "      <td>Manager</td>\n",
       "    </tr>\n",
       "  </tbody>\n",
       "</table>\n",
       "</div>"
      ],
      "text/plain": [
       "    manager_name  date_from    date_to       role\n",
       "49     Ian Dawes 2023-03-20 2023-05-04  Caretaker\n",
       "50     Ian Dawes 2023-05-04 2023-09-10    Manager\n",
       "51  Nigel Adkins 2023-09-10 2024-04-27    Manager"
      ]
     },
     "execution_count": 4,
     "metadata": {},
     "output_type": "execute_result"
    }
   ],
   "source": [
    "managers_df = pd.read_csv(\"https://raw.githubusercontent.com/petebrown/complete-record/main/output/managers.csv\", parse_dates=[\"date_from\", \"date_to\"])\n",
    "\n",
    "managers_df.tail(3)"
   ]
  },
  {
   "cell_type": "code",
   "execution_count": 5,
   "metadata": {},
   "outputs": [],
   "source": [
    "managers_df.to_csv('data/managers.csv', index = False)"
   ]
  },
  {
   "cell_type": "markdown",
   "metadata": {},
   "source": [
    "# Create `results_df`"
   ]
  },
  {
   "cell_type": "code",
   "execution_count": 6,
   "metadata": {},
   "outputs": [
    {
     "data": {
      "text/html": [
       "<div>\n",
       "<style scoped>\n",
       "    .dataframe tbody tr th:only-of-type {\n",
       "        vertical-align: middle;\n",
       "    }\n",
       "\n",
       "    .dataframe tbody tr th {\n",
       "        vertical-align: top;\n",
       "    }\n",
       "\n",
       "    .dataframe thead th {\n",
       "        text-align: right;\n",
       "    }\n",
       "</style>\n",
       "<table border=\"1\" class=\"dataframe\">\n",
       "  <thead>\n",
       "    <tr style=\"text-align: right;\">\n",
       "      <th></th>\n",
       "      <th>season</th>\n",
       "      <th>game_date</th>\n",
       "      <th>opposition</th>\n",
       "      <th>venue</th>\n",
       "      <th>score</th>\n",
       "      <th>home_team</th>\n",
       "      <th>away_team</th>\n",
       "      <th>outcome</th>\n",
       "      <th>home_goals</th>\n",
       "      <th>away_goals</th>\n",
       "      <th>...</th>\n",
       "      <th>attendance</th>\n",
       "      <th>stadium</th>\n",
       "      <th>league_tier</th>\n",
       "      <th>generic_comp</th>\n",
       "      <th>game_type</th>\n",
       "      <th>goal_diff</th>\n",
       "      <th>ssn_game_no</th>\n",
       "      <th>ssn_comp_game_no</th>\n",
       "      <th>weekday</th>\n",
       "      <th>manager</th>\n",
       "    </tr>\n",
       "  </thead>\n",
       "  <tbody>\n",
       "    <tr>\n",
       "      <th>0</th>\n",
       "      <td>2023/24</td>\n",
       "      <td>2023-09-16</td>\n",
       "      <td>Crawley Town</td>\n",
       "      <td>A</td>\n",
       "      <td>2-3</td>\n",
       "      <td>Crawley Town</td>\n",
       "      <td>Tranmere Rovers</td>\n",
       "      <td>L</td>\n",
       "      <td>3.0</td>\n",
       "      <td>2.0</td>\n",
       "      <td>...</td>\n",
       "      <td>2961.0</td>\n",
       "      <td>Broadfield Stadium, Crawley</td>\n",
       "      <td>4.0</td>\n",
       "      <td>Football League</td>\n",
       "      <td>League</td>\n",
       "      <td>-1.0</td>\n",
       "      <td>11</td>\n",
       "      <td>8</td>\n",
       "      <td>Saturday</td>\n",
       "      <td>Nigel Adkins</td>\n",
       "    </tr>\n",
       "  </tbody>\n",
       "</table>\n",
       "<p>1 rows × 25 columns</p>\n",
       "</div>"
      ],
      "text/plain": [
       "    season  game_date    opposition venue score     home_team  \\\n",
       "0  2023/24 2023-09-16  Crawley Town     A   2-3  Crawley Town   \n",
       "\n",
       "         away_team outcome  home_goals  away_goals  ... attendance  \\\n",
       "0  Tranmere Rovers       L         3.0         2.0  ...     2961.0   \n",
       "\n",
       "                       stadium  league_tier     generic_comp game_type  \\\n",
       "0  Broadfield Stadium, Crawley          4.0  Football League    League   \n",
       "\n",
       "   goal_diff ssn_game_no  ssn_comp_game_no   weekday       manager  \n",
       "0       -1.0          11                 8  Saturday  Nigel Adkins  \n",
       "\n",
       "[1 rows x 25 columns]"
      ]
     },
     "execution_count": 6,
     "metadata": {},
     "output_type": "execute_result"
    }
   ],
   "source": [
    "def get_manager(game_date):\n",
    "    manager_name = \" & \".join(managers_df[(managers_df.date_from <= game_date) & (managers_df.date_to >= game_date)].manager_name)\n",
    "    \n",
    "    return manager_name\n",
    "\n",
    "results = pd.read_csv(\"https://raw.githubusercontent.com/petebrown/update-results/main/data/results_df.csv\", parse_dates = [\"game_date\"])\n",
    "\n",
    "results[\"manager\"] = results.game_date.apply(get_manager)\n",
    "\n",
    "results.loc[results.goals_for > results.goals_against, \"outcome\"] = \"W\"\n",
    "results.loc[results.goals_for == results.goals_against, \"outcome\"] = \"D\"\n",
    "results.loc[results.goals_for < results.goals_against, \"outcome\"] = \"L\"\n",
    "\n",
    "results.competition = results.competition.str.replace(r\"lay-[oO]ffs?\", \"lay-Offs\", regex = True)\n",
    "\n",
    "results.head(1)"
   ]
  },
  {
   "cell_type": "code",
   "execution_count": 7,
   "metadata": {},
   "outputs": [
    {
     "data": {
      "text/html": [
       "<div>\n",
       "<style scoped>\n",
       "    .dataframe tbody tr th:only-of-type {\n",
       "        vertical-align: middle;\n",
       "    }\n",
       "\n",
       "    .dataframe tbody tr th {\n",
       "        vertical-align: top;\n",
       "    }\n",
       "\n",
       "    .dataframe thead th {\n",
       "        text-align: right;\n",
       "    }\n",
       "</style>\n",
       "<table border=\"1\" class=\"dataframe\">\n",
       "  <thead>\n",
       "    <tr style=\"text-align: right;\">\n",
       "      <th></th>\n",
       "      <th>game_date</th>\n",
       "      <th>league_pos</th>\n",
       "      <th>pts</th>\n",
       "    </tr>\n",
       "  </thead>\n",
       "  <tbody>\n",
       "    <tr>\n",
       "      <th>0</th>\n",
       "      <td>1921-08-27</td>\n",
       "      <td>3.0</td>\n",
       "      <td>2</td>\n",
       "    </tr>\n",
       "    <tr>\n",
       "      <th>1</th>\n",
       "      <td>1921-09-03</td>\n",
       "      <td>1.0</td>\n",
       "      <td>3</td>\n",
       "    </tr>\n",
       "    <tr>\n",
       "      <th>2</th>\n",
       "      <td>1921-09-10</td>\n",
       "      <td>11.0</td>\n",
       "      <td>3</td>\n",
       "    </tr>\n",
       "  </tbody>\n",
       "</table>\n",
       "</div>"
      ],
      "text/plain": [
       "   game_date  league_pos  pts\n",
       "0 1921-08-27         3.0    2\n",
       "1 1921-09-03         1.0    3\n",
       "2 1921-09-10        11.0    3"
      ]
     },
     "execution_count": 7,
     "metadata": {},
     "output_type": "execute_result"
    }
   ],
   "source": [
    "league_positions = pd.read_csv(\"https://raw.githubusercontent.com/petebrown/league-position-tool/main/docs/input/results_mini.csv\", parse_dates = [\"game_date\"])[[\"game_date\", \"ranking\", \"pts\"]].rename(columns = {\"ranking\": \"league_pos\"}).sort_values(\"game_date\").reset_index(drop = True)\n",
    "\n",
    "league_positions.head(3)"
   ]
  },
  {
   "cell_type": "code",
   "execution_count": 8,
   "metadata": {},
   "outputs": [
    {
     "data": {
      "text/html": [
       "<div>\n",
       "<style scoped>\n",
       "    .dataframe tbody tr th:only-of-type {\n",
       "        vertical-align: middle;\n",
       "    }\n",
       "\n",
       "    .dataframe tbody tr th {\n",
       "        vertical-align: top;\n",
       "    }\n",
       "\n",
       "    .dataframe thead th {\n",
       "        text-align: right;\n",
       "    }\n",
       "</style>\n",
       "<table border=\"1\" class=\"dataframe\">\n",
       "  <thead>\n",
       "    <tr style=\"text-align: right;\">\n",
       "      <th></th>\n",
       "      <th>season</th>\n",
       "      <th>game_date</th>\n",
       "      <th>opposition</th>\n",
       "      <th>venue</th>\n",
       "      <th>score</th>\n",
       "      <th>home_team</th>\n",
       "      <th>away_team</th>\n",
       "      <th>outcome</th>\n",
       "      <th>home_goals</th>\n",
       "      <th>away_goals</th>\n",
       "      <th>...</th>\n",
       "      <th>league_tier</th>\n",
       "      <th>generic_comp</th>\n",
       "      <th>game_type</th>\n",
       "      <th>goal_diff</th>\n",
       "      <th>ssn_game_no</th>\n",
       "      <th>ssn_comp_game_no</th>\n",
       "      <th>weekday</th>\n",
       "      <th>manager</th>\n",
       "      <th>league_pos</th>\n",
       "      <th>pts</th>\n",
       "    </tr>\n",
       "  </thead>\n",
       "  <tbody>\n",
       "    <tr>\n",
       "      <th>0</th>\n",
       "      <td>2023/24</td>\n",
       "      <td>2023-09-16</td>\n",
       "      <td>Crawley Town</td>\n",
       "      <td>A</td>\n",
       "      <td>2-3</td>\n",
       "      <td>Crawley Town</td>\n",
       "      <td>Tranmere Rovers</td>\n",
       "      <td>L</td>\n",
       "      <td>3.0</td>\n",
       "      <td>2.0</td>\n",
       "      <td>...</td>\n",
       "      <td>4.0</td>\n",
       "      <td>Football League</td>\n",
       "      <td>League</td>\n",
       "      <td>-1.0</td>\n",
       "      <td>11</td>\n",
       "      <td>8</td>\n",
       "      <td>Saturday</td>\n",
       "      <td>Nigel Adkins</td>\n",
       "      <td>23.0</td>\n",
       "      <td>3.0</td>\n",
       "    </tr>\n",
       "  </tbody>\n",
       "</table>\n",
       "<p>1 rows × 27 columns</p>\n",
       "</div>"
      ],
      "text/plain": [
       "    season  game_date    opposition venue score     home_team  \\\n",
       "0  2023/24 2023-09-16  Crawley Town     A   2-3  Crawley Town   \n",
       "\n",
       "         away_team outcome  home_goals  away_goals  ... league_tier  \\\n",
       "0  Tranmere Rovers       L         3.0         2.0  ...         4.0   \n",
       "\n",
       "      generic_comp  game_type  goal_diff ssn_game_no  ssn_comp_game_no  \\\n",
       "0  Football League     League       -1.0          11                 8   \n",
       "\n",
       "    weekday       manager league_pos  pts  \n",
       "0  Saturday  Nigel Adkins       23.0  3.0  \n",
       "\n",
       "[1 rows x 27 columns]"
      ]
     },
     "execution_count": 8,
     "metadata": {},
     "output_type": "execute_result"
    }
   ],
   "source": [
    "results = pd.merge(results, league_positions, how = \"left\", on = \"game_date\")\n",
    "\n",
    "results.head(1)"
   ]
  },
  {
   "cell_type": "code",
   "execution_count": 9,
   "metadata": {},
   "outputs": [
    {
     "data": {
      "text/html": [
       "<div>\n",
       "<style scoped>\n",
       "    .dataframe tbody tr th:only-of-type {\n",
       "        vertical-align: middle;\n",
       "    }\n",
       "\n",
       "    .dataframe tbody tr th {\n",
       "        vertical-align: top;\n",
       "    }\n",
       "\n",
       "    .dataframe thead th {\n",
       "        text-align: right;\n",
       "    }\n",
       "</style>\n",
       "<table border=\"1\" class=\"dataframe\">\n",
       "  <thead>\n",
       "    <tr style=\"text-align: right;\">\n",
       "      <th></th>\n",
       "      <th>game_date</th>\n",
       "      <th>ko_time</th>\n",
       "      <th>cup_round</th>\n",
       "      <th>cup_leg</th>\n",
       "      <th>cup_stage</th>\n",
       "      <th>cup_replay</th>\n",
       "      <th>cup_section</th>\n",
       "      <th>aet</th>\n",
       "      <th>pen_outcome</th>\n",
       "      <th>pen_score</th>\n",
       "      <th>pen_gf</th>\n",
       "      <th>pen_ga</th>\n",
       "      <th>agg_outcome</th>\n",
       "      <th>agg_score</th>\n",
       "      <th>agg_gf</th>\n",
       "      <th>agg_ga</th>\n",
       "      <th>away_goal_outcome</th>\n",
       "      <th>gg_outcome</th>\n",
       "    </tr>\n",
       "  </thead>\n",
       "  <tbody>\n",
       "    <tr>\n",
       "      <th>0</th>\n",
       "      <td>2022-11-22</td>\n",
       "      <td>19:00:00</td>\n",
       "      <td>2</td>\n",
       "      <td>NaN</td>\n",
       "      <td>2nd round - northern section</td>\n",
       "      <td>NaN</td>\n",
       "      <td>Northern</td>\n",
       "      <td>NaN</td>\n",
       "      <td>L</td>\n",
       "      <td>4-5</td>\n",
       "      <td>5.0</td>\n",
       "      <td>4.0</td>\n",
       "      <td>NaN</td>\n",
       "      <td>NaN</td>\n",
       "      <td>NaN</td>\n",
       "      <td>NaN</td>\n",
       "      <td>NaN</td>\n",
       "      <td>NaN</td>\n",
       "    </tr>\n",
       "    <tr>\n",
       "      <th>1</th>\n",
       "      <td>2022-11-05</td>\n",
       "      <td>15:00:00</td>\n",
       "      <td>1</td>\n",
       "      <td>NaN</td>\n",
       "      <td>1st round</td>\n",
       "      <td>NaN</td>\n",
       "      <td>NaN</td>\n",
       "      <td>NaN</td>\n",
       "      <td>NaN</td>\n",
       "      <td>NaN</td>\n",
       "      <td>NaN</td>\n",
       "      <td>NaN</td>\n",
       "      <td>NaN</td>\n",
       "      <td>NaN</td>\n",
       "      <td>NaN</td>\n",
       "      <td>NaN</td>\n",
       "      <td>NaN</td>\n",
       "      <td>NaN</td>\n",
       "    </tr>\n",
       "    <tr>\n",
       "      <th>2</th>\n",
       "      <td>2022-10-18</td>\n",
       "      <td>19:00:00</td>\n",
       "      <td>G</td>\n",
       "      <td>NaN</td>\n",
       "      <td>Group B - North</td>\n",
       "      <td>NaN</td>\n",
       "      <td>NaN</td>\n",
       "      <td>NaN</td>\n",
       "      <td>NaN</td>\n",
       "      <td>NaN</td>\n",
       "      <td>NaN</td>\n",
       "      <td>NaN</td>\n",
       "      <td>NaN</td>\n",
       "      <td>NaN</td>\n",
       "      <td>NaN</td>\n",
       "      <td>NaN</td>\n",
       "      <td>NaN</td>\n",
       "      <td>NaN</td>\n",
       "    </tr>\n",
       "  </tbody>\n",
       "</table>\n",
       "</div>"
      ],
      "text/plain": [
       "   game_date   ko_time cup_round  cup_leg                     cup_stage  \\\n",
       "0 2022-11-22  19:00:00         2      NaN  2nd round - northern section   \n",
       "1 2022-11-05  15:00:00         1      NaN                     1st round   \n",
       "2 2022-10-18  19:00:00         G      NaN               Group B - North   \n",
       "\n",
       "   cup_replay cup_section  aet pen_outcome pen_score  pen_gf  pen_ga  \\\n",
       "0         NaN    Northern  NaN           L       4-5     5.0     4.0   \n",
       "1         NaN         NaN  NaN         NaN       NaN     NaN     NaN   \n",
       "2         NaN         NaN  NaN         NaN       NaN     NaN     NaN   \n",
       "\n",
       "  agg_outcome agg_score  agg_gf  agg_ga away_goal_outcome gg_outcome  \n",
       "0         NaN       NaN     NaN     NaN               NaN        NaN  \n",
       "1         NaN       NaN     NaN     NaN               NaN        NaN  \n",
       "2         NaN       NaN     NaN     NaN               NaN        NaN  "
      ]
     },
     "execution_count": 9,
     "metadata": {},
     "output_type": "execute_result"
    }
   ],
   "source": [
    "cup_game_details = pd.read_csv(\"https://raw.githubusercontent.com/petebrown/complete-record/main/11v11-extra-details/cup_details.csv\", parse_dates = [\"game_date\"]).rename(columns = {\"extra_time\": \"aet\"})\n",
    "\n",
    "cup_game_details.loc[cup_game_details.game_date == \"1984-05-18\", \"cup_leg\"] = np.nan\n",
    "cup_game_details.loc[cup_game_details.game_date == \"1984-05-18\", \"cup_stage\"] = cup_game_details.loc[cup_game_details.game_date == \"1984-05-18\"].cup_stage.str.replace(\" (1st leg)\", \"\")\n",
    "\n",
    "cup_game_details.loc[cup_game_details.game_date.isin([\"2014-10-07\", \"2014-12-09\", \"1995-11-08\"]), \"aet\"] = 1\n",
    "\n",
    "cup_game_details.ko_time = pd.to_datetime(cup_game_details.ko_time.str.replace(\".\", \":\"), format = \n",
    "\"%I:%M%p\").dt.time\n",
    "cup_game_details.cup_replay = cup_game_details.cup_replay.replace(0, np.nan)\n",
    "cup_game_details.aet = cup_game_details.aet.replace(0, np.nan)\n",
    "\n",
    "cup_game_details.head(3)"
   ]
  },
  {
   "cell_type": "code",
   "execution_count": 10,
   "metadata": {},
   "outputs": [
    {
     "ename": "AttributeError",
     "evalue": "module 'numpy' has no attribute 'matrix'",
     "output_type": "error",
     "traceback": [
      "\u001b[0;31m---------------------------------------------------------------------------\u001b[0m",
      "\u001b[0;31mKeyError\u001b[0m                                  Traceback (most recent call last)",
      "File \u001b[0;32m~/.pyenv/versions/3.11.3/lib/python3.11/site-packages/pandas/core/indexes/base.py:3653\u001b[0m, in \u001b[0;36mIndex.get_loc\u001b[0;34m(self, key)\u001b[0m\n\u001b[1;32m   3652\u001b[0m \u001b[39mtry\u001b[39;00m:\n\u001b[0;32m-> 3653\u001b[0m     \u001b[39mreturn\u001b[39;00m \u001b[39mself\u001b[39;49m\u001b[39m.\u001b[39;49m_engine\u001b[39m.\u001b[39;49mget_loc(casted_key)\n\u001b[1;32m   3654\u001b[0m \u001b[39mexcept\u001b[39;00m \u001b[39mKeyError\u001b[39;00m \u001b[39mas\u001b[39;00m err:\n",
      "File \u001b[0;32m~/.pyenv/versions/3.11.3/lib/python3.11/site-packages/pandas/_libs/index.pyx:147\u001b[0m, in \u001b[0;36mpandas._libs.index.IndexEngine.get_loc\u001b[0;34m()\u001b[0m\n",
      "File \u001b[0;32m~/.pyenv/versions/3.11.3/lib/python3.11/site-packages/pandas/_libs/index.pyx:176\u001b[0m, in \u001b[0;36mpandas._libs.index.IndexEngine.get_loc\u001b[0;34m()\u001b[0m\n",
      "File \u001b[0;32mpandas/_libs/hashtable_class_helper.pxi:7080\u001b[0m, in \u001b[0;36mpandas._libs.hashtable.PyObjectHashTable.get_item\u001b[0;34m()\u001b[0m\n",
      "File \u001b[0;32mpandas/_libs/hashtable_class_helper.pxi:7088\u001b[0m, in \u001b[0;36mpandas._libs.hashtable.PyObjectHashTable.get_item\u001b[0;34m()\u001b[0m\n",
      "\u001b[0;31mKeyError\u001b[0m: 'decider'",
      "\nThe above exception was the direct cause of the following exception:\n",
      "\u001b[0;31mKeyError\u001b[0m                                  Traceback (most recent call last)",
      "File \u001b[0;32m~/.pyenv/versions/3.11.3/lib/python3.11/site-packages/pandas/core/frame.py:4110\u001b[0m, in \u001b[0;36mDataFrame._set_item_mgr\u001b[0;34m(self, key, value)\u001b[0m\n\u001b[1;32m   4109\u001b[0m \u001b[39mtry\u001b[39;00m:\n\u001b[0;32m-> 4110\u001b[0m     loc \u001b[39m=\u001b[39m \u001b[39mself\u001b[39;49m\u001b[39m.\u001b[39;49m_info_axis\u001b[39m.\u001b[39;49mget_loc(key)\n\u001b[1;32m   4111\u001b[0m \u001b[39mexcept\u001b[39;00m \u001b[39mKeyError\u001b[39;00m:\n\u001b[1;32m   4112\u001b[0m     \u001b[39m# This item wasn't present, just insert at end\u001b[39;00m\n",
      "File \u001b[0;32m~/.pyenv/versions/3.11.3/lib/python3.11/site-packages/pandas/core/indexes/base.py:3655\u001b[0m, in \u001b[0;36mIndex.get_loc\u001b[0;34m(self, key)\u001b[0m\n\u001b[1;32m   3654\u001b[0m \u001b[39mexcept\u001b[39;00m \u001b[39mKeyError\u001b[39;00m \u001b[39mas\u001b[39;00m err:\n\u001b[0;32m-> 3655\u001b[0m     \u001b[39mraise\u001b[39;00m \u001b[39mKeyError\u001b[39;00m(key) \u001b[39mfrom\u001b[39;00m \u001b[39merr\u001b[39;00m\n\u001b[1;32m   3656\u001b[0m \u001b[39mexcept\u001b[39;00m \u001b[39mTypeError\u001b[39;00m:\n\u001b[1;32m   3657\u001b[0m     \u001b[39m# If we have a listlike key, _check_indexing_error will raise\u001b[39;00m\n\u001b[1;32m   3658\u001b[0m     \u001b[39m#  InvalidIndexError. Otherwise we fall through and re-raise\u001b[39;00m\n\u001b[1;32m   3659\u001b[0m     \u001b[39m#  the TypeError.\u001b[39;00m\n",
      "\u001b[0;31mKeyError\u001b[0m: 'decider'",
      "\nDuring handling of the above exception, another exception occurred:\n",
      "\u001b[0;31mAttributeError\u001b[0m                            Traceback (most recent call last)",
      "\u001b[1;32m/Users/petebrown/Developer/pre-2023-data-prep/data-pipeline-prep.ipynb Cell 10\u001b[0m line \u001b[0;36m5\n\u001b[1;32m     <a href='vscode-notebook-cell:/Users/petebrown/Developer/pre-2023-data-prep/data-pipeline-prep.ipynb#X12sZmlsZQ%3D%3D?line=52'>53</a>\u001b[0m     \u001b[39melse\u001b[39;00m:\n\u001b[1;32m     <a href='vscode-notebook-cell:/Users/petebrown/Developer/pre-2023-data-prep/data-pipeline-prep.ipynb#X12sZmlsZQ%3D%3D?line=53'>54</a>\u001b[0m         \u001b[39mreturn\u001b[39;00m np\u001b[39m.\u001b[39mnan\n\u001b[0;32m---> <a href='vscode-notebook-cell:/Users/petebrown/Developer/pre-2023-data-prep/data-pipeline-prep.ipynb#X12sZmlsZQ%3D%3D?line=55'>56</a>\u001b[0m cup_game_details[\u001b[39m\"\u001b[39;49m\u001b[39mdecider\u001b[39;49m\u001b[39m\"\u001b[39;49m] \u001b[39m=\u001b[39m cup_game_details\u001b[39m.\u001b[39mapply(outcome_decider, axis \u001b[39m=\u001b[39m \u001b[39m1\u001b[39m)    \n\u001b[1;32m     <a href='vscode-notebook-cell:/Users/petebrown/Developer/pre-2023-data-prep/data-pipeline-prep.ipynb#X12sZmlsZQ%3D%3D?line=56'>57</a>\u001b[0m cup_game_details[\u001b[39m\"\u001b[39m\u001b[39mcup_outcome\u001b[39m\u001b[39m\"\u001b[39m] \u001b[39m=\u001b[39m cup_game_details\u001b[39m.\u001b[39mapply(get_cup_outcome, axis \u001b[39m=\u001b[39m \u001b[39m1\u001b[39m)\n\u001b[1;32m     <a href='vscode-notebook-cell:/Users/petebrown/Developer/pre-2023-data-prep/data-pipeline-prep.ipynb#X12sZmlsZQ%3D%3D?line=57'>58</a>\u001b[0m cup_game_details[\u001b[39m\"\u001b[39m\u001b[39moutcome_desc\u001b[39m\u001b[39m\"\u001b[39m] \u001b[39m=\u001b[39m cup_game_details\u001b[39m.\u001b[39mapply(get_outcome_desc, axis \u001b[39m=\u001b[39m \u001b[39m1\u001b[39m)\n",
      "File \u001b[0;32m~/.pyenv/versions/3.11.3/lib/python3.11/site-packages/pandas/core/frame.py:3950\u001b[0m, in \u001b[0;36mDataFrame.__setitem__\u001b[0;34m(self, key, value)\u001b[0m\n\u001b[1;32m   3947\u001b[0m     \u001b[39mself\u001b[39m\u001b[39m.\u001b[39m_setitem_array([key], value)\n\u001b[1;32m   3948\u001b[0m \u001b[39melse\u001b[39;00m:\n\u001b[1;32m   3949\u001b[0m     \u001b[39m# set column\u001b[39;00m\n\u001b[0;32m-> 3950\u001b[0m     \u001b[39mself\u001b[39;49m\u001b[39m.\u001b[39;49m_set_item(key, value)\n",
      "File \u001b[0;32m~/.pyenv/versions/3.11.3/lib/python3.11/site-packages/pandas/core/frame.py:4156\u001b[0m, in \u001b[0;36mDataFrame._set_item\u001b[0;34m(self, key, value)\u001b[0m\n\u001b[1;32m   4153\u001b[0m         \u001b[39mif\u001b[39;00m \u001b[39misinstance\u001b[39m(existing_piece, DataFrame):\n\u001b[1;32m   4154\u001b[0m             value \u001b[39m=\u001b[39m np\u001b[39m.\u001b[39mtile(value, (\u001b[39mlen\u001b[39m(existing_piece\u001b[39m.\u001b[39mcolumns), \u001b[39m1\u001b[39m))\u001b[39m.\u001b[39mT\n\u001b[0;32m-> 4156\u001b[0m \u001b[39mself\u001b[39;49m\u001b[39m.\u001b[39;49m_set_item_mgr(key, value)\n",
      "File \u001b[0;32m~/.pyenv/versions/3.11.3/lib/python3.11/site-packages/pandas/core/frame.py:4113\u001b[0m, in \u001b[0;36mDataFrame._set_item_mgr\u001b[0;34m(self, key, value)\u001b[0m\n\u001b[1;32m   4110\u001b[0m     loc \u001b[39m=\u001b[39m \u001b[39mself\u001b[39m\u001b[39m.\u001b[39m_info_axis\u001b[39m.\u001b[39mget_loc(key)\n\u001b[1;32m   4111\u001b[0m \u001b[39mexcept\u001b[39;00m \u001b[39mKeyError\u001b[39;00m:\n\u001b[1;32m   4112\u001b[0m     \u001b[39m# This item wasn't present, just insert at end\u001b[39;00m\n\u001b[0;32m-> 4113\u001b[0m     \u001b[39mself\u001b[39;49m\u001b[39m.\u001b[39;49m_mgr\u001b[39m.\u001b[39;49minsert(\u001b[39mlen\u001b[39;49m(\u001b[39mself\u001b[39;49m\u001b[39m.\u001b[39;49m_info_axis), key, value)\n\u001b[1;32m   4114\u001b[0m \u001b[39melse\u001b[39;00m:\n\u001b[1;32m   4115\u001b[0m     \u001b[39mself\u001b[39m\u001b[39m.\u001b[39m_iset_item_mgr(loc, value)\n",
      "File \u001b[0;32m~/.pyenv/versions/3.11.3/lib/python3.11/site-packages/pandas/core/internals/managers.py:1419\u001b[0m, in \u001b[0;36mBlockManager.insert\u001b[0;34m(self, loc, item, value)\u001b[0m\n\u001b[1;32m   1417\u001b[0m \u001b[39melse\u001b[39;00m:\n\u001b[1;32m   1418\u001b[0m     \u001b[39mself\u001b[39m\u001b[39m.\u001b[39m_insert_update_mgr_locs(loc)\n\u001b[0;32m-> 1419\u001b[0m     \u001b[39mself\u001b[39;49m\u001b[39m.\u001b[39;49m_insert_update_blklocs_and_blknos(loc)\n\u001b[1;32m   1421\u001b[0m \u001b[39mself\u001b[39m\u001b[39m.\u001b[39maxes[\u001b[39m0\u001b[39m] \u001b[39m=\u001b[39m new_axis\n\u001b[1;32m   1422\u001b[0m \u001b[39mself\u001b[39m\u001b[39m.\u001b[39mblocks \u001b[39m+\u001b[39m\u001b[39m=\u001b[39m (block,)\n",
      "File \u001b[0;32m~/.pyenv/versions/3.11.3/lib/python3.11/site-packages/pandas/core/internals/managers.py:1455\u001b[0m, in \u001b[0;36mBlockManager._insert_update_blklocs_and_blknos\u001b[0;34m(self, loc)\u001b[0m\n\u001b[1;32m   1452\u001b[0m \u001b[39m# Accessing public blklocs ensures the public versions are initialized\u001b[39;00m\n\u001b[1;32m   1453\u001b[0m \u001b[39mif\u001b[39;00m loc \u001b[39m==\u001b[39m \u001b[39mself\u001b[39m\u001b[39m.\u001b[39mblklocs\u001b[39m.\u001b[39mshape[\u001b[39m0\u001b[39m]:\n\u001b[1;32m   1454\u001b[0m     \u001b[39m# np.append is a lot faster, let's use it if we can.\u001b[39;00m\n\u001b[0;32m-> 1455\u001b[0m     \u001b[39mself\u001b[39m\u001b[39m.\u001b[39m_blklocs \u001b[39m=\u001b[39m np\u001b[39m.\u001b[39;49mappend(\u001b[39mself\u001b[39;49m\u001b[39m.\u001b[39;49m_blklocs, \u001b[39m0\u001b[39;49m)\n\u001b[1;32m   1456\u001b[0m     \u001b[39mself\u001b[39m\u001b[39m.\u001b[39m_blknos \u001b[39m=\u001b[39m np\u001b[39m.\u001b[39mappend(\u001b[39mself\u001b[39m\u001b[39m.\u001b[39m_blknos, \u001b[39mlen\u001b[39m(\u001b[39mself\u001b[39m\u001b[39m.\u001b[39mblocks))\n\u001b[1;32m   1457\u001b[0m \u001b[39melif\u001b[39;00m loc \u001b[39m==\u001b[39m \u001b[39m0\u001b[39m:\n\u001b[1;32m   1458\u001b[0m     \u001b[39m# np.append is a lot faster, let's use it if we can.\u001b[39;00m\n",
      "File \u001b[0;32m~/.pyenv/versions/3.11.3/lib/python3.11/site-packages/numpy/lib/function_base.py:5615\u001b[0m, in \u001b[0;36mappend\u001b[0;34m(arr, values, axis)\u001b[0m\n\u001b[1;32m   5613\u001b[0m     \u001b[39mif\u001b[39;00m arr\u001b[39m.\u001b[39mndim \u001b[39m!=\u001b[39m \u001b[39m1\u001b[39m:\n\u001b[1;32m   5614\u001b[0m         arr \u001b[39m=\u001b[39m arr\u001b[39m.\u001b[39mravel()\n\u001b[0;32m-> 5615\u001b[0m     values \u001b[39m=\u001b[39m ravel(values)\n\u001b[1;32m   5616\u001b[0m     axis \u001b[39m=\u001b[39m arr\u001b[39m.\u001b[39mndim\u001b[39m-\u001b[39m\u001b[39m1\u001b[39m\n\u001b[1;32m   5617\u001b[0m \u001b[39mreturn\u001b[39;00m concatenate((arr, values), axis\u001b[39m=\u001b[39maxis)\n",
      "File \u001b[0;32m~/.pyenv/versions/3.11.3/lib/python3.11/site-packages/numpy/core/fromnumeric.py:1871\u001b[0m, in \u001b[0;36mravel\u001b[0;34m(a, order)\u001b[0m\n\u001b[1;32m   1768\u001b[0m \u001b[39m@array_function_dispatch\u001b[39m(_ravel_dispatcher)\n\u001b[1;32m   1769\u001b[0m \u001b[39mdef\u001b[39;00m \u001b[39mravel\u001b[39m(a, order\u001b[39m=\u001b[39m\u001b[39m'\u001b[39m\u001b[39mC\u001b[39m\u001b[39m'\u001b[39m):\n\u001b[1;32m   1770\u001b[0m \u001b[39m    \u001b[39m\u001b[39m\"\"\"Return a contiguous flattened array.\u001b[39;00m\n\u001b[1;32m   1771\u001b[0m \n\u001b[1;32m   1772\u001b[0m \u001b[39m    A 1-D array, containing the elements of the input, is returned.  A copy is\u001b[39;00m\n\u001b[0;32m   (...)\u001b[0m\n\u001b[1;32m   1869\u001b[0m \n\u001b[1;32m   1870\u001b[0m \u001b[39m    \"\"\"\u001b[39;00m\n\u001b[0;32m-> 1871\u001b[0m     \u001b[39mif\u001b[39;00m \u001b[39misinstance\u001b[39m(a, np\u001b[39m.\u001b[39;49mmatrix):\n\u001b[1;32m   1872\u001b[0m         \u001b[39mreturn\u001b[39;00m asarray(a)\u001b[39m.\u001b[39mravel(order\u001b[39m=\u001b[39morder)\n\u001b[1;32m   1873\u001b[0m     \u001b[39melse\u001b[39;00m:\n",
      "\u001b[0;31mAttributeError\u001b[0m: module 'numpy' has no attribute 'matrix'"
     ]
    }
   ],
   "source": [
    "def outcome_decider(row):\n",
    "    if row['pen_outcome'] is not np.nan:\n",
    "        return \"pens\"\n",
    "    elif row[\"away_goal_outcome\"] is not np.nan:\n",
    "        return \"away_goals\"\n",
    "    elif row[\"gg_outcome\"] is not np.nan:\n",
    "        return \"golden_goal\"\n",
    "    elif row[\"agg_outcome\"] is not np.nan:\n",
    "        if row[\"game_date\"] == pd.to_datetime(\"1975-08-26\"):\n",
    "            return \"replay\"\n",
    "        else:\n",
    "            return \"agg\"\n",
    "    else:\n",
    "        return np.nan\n",
    "    \n",
    "def get_cup_outcome(row):\n",
    "    if row[\"pen_outcome\"] is not np.nan:\n",
    "        return row[\"pen_outcome\"]\n",
    "    elif row[\"away_goal_outcome\"] is not np.nan:\n",
    "        return row[\"away_goal_outcome\"]\n",
    "    elif row[\"gg_outcome\"] is not np.nan:\n",
    "        return row[\"gg_outcome\"]\n",
    "    elif row[\"agg_outcome\"] is not np.nan:\n",
    "        return row[\"agg_outcome\"]\n",
    "    else:\n",
    "        return np.nan\n",
    "    \n",
    "def get_outcome_desc(row):\n",
    "    if row[\"pen_outcome\"] is not np.nan:\n",
    "        if row[\"agg_outcome\"] is not np.nan:\n",
    "            desc = row[\"agg_score\"] + \" on agg. \" + row[\"pen_outcome\"] + \" \" + row[\"pen_score\"] + \" on pens\"\n",
    "            desc = desc.replace(\"W \", \"Won \").replace(\"L \", \"Lost\")\n",
    "            return desc\n",
    "        else:\n",
    "            desc = row[\"pen_outcome\"] + \" \" + row[\"pen_score\"] + \" on pens\"\n",
    "            desc = desc.replace(\"W \", \"Won \").replace(\"L \", \"Lost \")\n",
    "            return desc\n",
    "    elif row[\"away_goal_outcome\"] is not np.nan:\n",
    "        desc = row[\"away_goal_outcome\"] + \" on away goals rule\"\n",
    "        desc = desc.replace(\"W \", \"Won \").replace(\"L \", \"Lost \")\n",
    "        return desc\n",
    "    elif row[\"gg_outcome\"] is not np.nan:\n",
    "        desc = row[\"gg_outcome\"] + \" on golden goal\"\n",
    "        desc = desc.replace(\"W \", \"Won \").replace(\"L \", \"Lost \")\n",
    "        return desc\n",
    "    elif row[\"agg_outcome\"] is not np.nan:\n",
    "        if row[\"game_date\"] == pd.to_datetime(\"1975-08-26\"):\n",
    "            return \"Game replayed\"\n",
    "        else:\n",
    "            desc = row[\"agg_outcome\"] + \" \" + row[\"agg_score\"] + \" on agg\"\n",
    "            desc = desc.replace(\"W \", \"Won \").replace(\"L \", \"Lost \")\n",
    "            return desc\n",
    "    else:\n",
    "        return np.nan\n",
    "    \n",
    "cup_game_details[\"decider\"] = cup_game_details.apply(outcome_decider, axis = 1)    \n",
    "cup_game_details[\"cup_outcome\"] = cup_game_details.apply(get_cup_outcome, axis = 1)\n",
    "cup_game_details[\"outcome_desc\"] = cup_game_details.apply(get_outcome_desc, axis = 1)"
   ]
  },
  {
   "cell_type": "code",
   "execution_count": null,
   "metadata": {},
   "outputs": [],
   "source": [
    "def calc_game_length(row):\n",
    "    if row[\"gg_outcome\"] is not np.nan:\n",
    "        return 116\n",
    "    elif row[\"aet\"] == 1 and row[\"gg_outcome\"] not in [\"W\", \"L\"]:\n",
    "        return 120\n",
    "    else:\n",
    "        return 90\n",
    "\n",
    "results_df = results.rename(columns = {\n",
    "    \"ssn_game_no\": \"game_no\",\n",
    "})[[\"season\", \"game_date\", \"game_no\", \"opposition\", \"venue\", \"score\", \"outcome\", \"goals_for\", \"goals_against\", \"goal_diff\", \"game_type\", \"competition\", \"generic_comp\", \"ssn_comp_game_no\", \"league_tier\", \"league_pos\", \"pts\", \"attendance\", \"weekday\", \"manager\"]]\n",
    "\n",
    "results_df = pd.merge(left = results_df, right = cup_game_details, how = \"left\", on = \"game_date\")\n",
    "\n",
    "results_df[\"game_length\"] = results_df.apply(calc_game_length, axis = 1)\n",
    "\n",
    "results_df.to_csv(\"data/results.csv\", index = False)"
   ]
  },
  {
   "cell_type": "markdown",
   "metadata": {},
   "source": [
    "# Create `goals_df`"
   ]
  },
  {
   "cell_type": "code",
   "execution_count": null,
   "metadata": {},
   "outputs": [],
   "source": [
    "sb_match_apps = pd.read_csv(\n",
    "    \"https://raw.githubusercontent.com/petebrown/update-player-stats/main/data/players_df.csv\",\n",
    "    parse_dates = [\"game_date\"]\n",
    ").rename(columns = {\n",
    "    \"sb_game_id\": \"game_id\",\n",
    "    \"sb_player_id\": \"player_id\",\n",
    "})\n",
    "\n",
    "sb_match_apps.game_id = sb_match_apps.game_id.str.replace(\"tpg\", \"\").astype(int)\n",
    "\n",
    "sb_match_apps.player_name = sb_match_apps.player_name.apply(fix_name)"
   ]
  },
  {
   "cell_type": "code",
   "execution_count": null,
   "metadata": {},
   "outputs": [],
   "source": [
    "sb_game_ids = sb_match_apps[[\"game_id\", \"game_date\", \"season\"]].drop_duplicates().sort_values(by = [\"game_date\"]).reset_index(drop = True)\n",
    "\n",
    "sb_game_ids.head(3)"
   ]
  },
  {
   "cell_type": "code",
   "execution_count": null,
   "metadata": {},
   "outputs": [],
   "source": [
    "sb_player_ids = sb_match_apps[[\"player_id\", \"player_name\"]].drop_duplicates().reset_index(drop = True)\n",
    "sb_player_ids.player_name = sb_player_ids.player_name.apply(fix_name)\n",
    "\n",
    "sb_player_ids.head(3)"
   ]
  },
  {
   "cell_type": "code",
   "execution_count": null,
   "metadata": {},
   "outputs": [],
   "source": [
    "game_nos = results[[\"game_date\", \"season\", \"ssn_game_no\"]].rename(columns = {\"ssn_game_no\": \"game_no\"}).sort_values([\"game_date\"]).reset_index(drop = True)\n",
    "\n",
    "game_nos.head(3)"
   ]
  },
  {
   "cell_type": "markdown",
   "metadata": {},
   "source": [
    "### Import goal details scraped from Soccerbase\n",
    "\n",
    "**Seasons:** 1996-97 - 2022/23\n",
    "\n",
    "**Fields:**\n",
    "- `player_name`\n",
    "- `minute`\n",
    "- `penalty` (0/1)\n",
    "- `own_goal` (0/1)\n",
    "- `game_date` _(after join)_"
   ]
  },
  {
   "cell_type": "code",
   "execution_count": null,
   "metadata": {},
   "outputs": [],
   "source": [
    "# Import Soccerbase goal details\n",
    "sb_goals = pd.read_csv(\"https://raw.githubusercontent.com/petebrown/scrape-goals/main/data/goals.csv\")\n",
    "\n",
    "# Filter for Tranmere goals\n",
    "sb_goals = sb_goals[sb_goals[\"goal_type\"] == \"for\"]\n",
    "\n",
    "# Fix player names\n",
    "sb_goals.player_name = sb_goals.player_name.apply(fix_name)\n",
    "\n",
    "# Add game dates via a join\n",
    "sb_goals = sb_goals.merge(sb_game_ids, on = \"game_id\", how = \"left\").sort_values([\"game_date\", \"minute\"])\n",
    "\n",
    "# Reduce to subset of columns\n",
    "sb_goals = sb_goals[[\"game_date\", \"player_name\", \"minute\", \"penalty\", \"own_goal\"]]\n",
    "\n",
    "sb_goals = sb_goals.rename(columns = {\"minute\": \"goal_min\"})\n",
    "\n",
    "sb_goals.head(3)"
   ]
  },
  {
   "cell_type": "markdown",
   "metadata": {},
   "source": [
    "### Import goals from Complete Record\n",
    "\n",
    "**Seasons:** 1921/22 - 1995/96 (after filter)\n",
    "\n",
    "**Fields:**\n",
    "\n",
    "* `game_date`\n",
    "* `player_name`\n",
    "* `goals_scored` (no. of goals scored by player in game)"
   ]
  },
  {
   "cell_type": "code",
   "execution_count": null,
   "metadata": {},
   "outputs": [],
   "source": [
    "# Import Complete Record goal details and convert to a dictionary\n",
    "all_goals = pd.read_csv(\"https://raw.githubusercontent.com/petebrown/complete-record/main/output/scorers-long.csv\").merge(game_nos, how = \"left\", on = [\"season\", \"game_no\"])[[\"season\", \"game_date\", \"player_name\", \"goals_scored\"]].to_dict(\"records\")\n",
    "\n",
    "# Initiate empty list for goals\n",
    "cr_goals = []\n",
    "\n",
    "# Loop through each goal and one for every goal in goals_scored column\n",
    "for goal in all_goals:\n",
    "    n_goals = goal[\"goals_scored\"]\n",
    "\n",
    "    for i in range(n_goals):\n",
    "        cr_goals.append(goal)\n",
    "\n",
    "# Convert to Pandas dataframe\n",
    "cr_goals = pd.DataFrame(cr_goals).drop(\"goals_scored\", axis = 1)\n",
    "\n",
    "# Add own_goal column to match sb_goals\n",
    "cr_goals.loc[cr_goals.player_name == \"OG\", \"own_goal\"] = 1\n",
    "cr_goals.loc[cr_goals.player_name != \"OG\", \"own_goal\"] = 0\n",
    "cr_goals.own_goal = cr_goals.own_goal.astype(int)\n",
    "\n",
    "# Filter for seasons covered by Soccerbase data, i.e. before 1996/97\n",
    "cr_goals = cr_goals[cr_goals.season < \"1996\"]\n",
    "\n",
    "# Drop the season column\n",
    "cr_goals = cr_goals.drop(\"season\", axis = 1)\n",
    "\n",
    "cr_goals.head(3)"
   ]
  },
  {
   "cell_type": "markdown",
   "metadata": {},
   "source": [
    "### Import manually collected goal minutes"
   ]
  },
  {
   "cell_type": "code",
   "execution_count": null,
   "metadata": {},
   "outputs": [],
   "source": [
    "# Import manually collected goal minute data\n",
    "cr_goal_mins = pd.read_csv(\"https://raw.githubusercontent.com/petebrown/complete-record/main/seasons/manual/goal_mins.csv\", parse_dates = [\"game_date\"]).sort_values([\"game_date\", \"goal_min\"])\n",
    "\n",
    "# Amend penalty column to 0/1\n",
    "cr_goal_mins.penalty = cr_goal_mins.penalty.apply(lambda x: 1 if x == \"pen\" else 0)\n",
    "\n",
    "# Add goal numbers for each player in each game, e.g. 1-3 for a hat-trick\n",
    "cr_goal_mins[\"pl_goal_no\"] = cr_goal_mins.groupby([\"player_name\", \"game_date\"]).cumcount() + 1\n",
    "\n",
    "cr_goal_mins.head(3)"
   ]
  },
  {
   "cell_type": "markdown",
   "metadata": {},
   "source": [
    "### Join manually collected goal minutes to Complete Record goal data"
   ]
  },
  {
   "cell_type": "code",
   "execution_count": null,
   "metadata": {},
   "outputs": [],
   "source": [
    "# For join: add goal numbers for each player in each game, e.g. 1-3 for a hat-trick\n",
    "cr_goals[\"pl_goal_no\"] = cr_goals.groupby([\"player_name\", \"game_date\"]).cumcount() + 1\n",
    "\n",
    "# Merge goal minutes with Complete Record goal data and drop temporary pl_goal_no column\n",
    "cr_goals = cr_goals.merge(cr_goal_mins, how = \"left\", on = [\"game_date\", \"player_name\", \"pl_goal_no\"]).drop(columns = [\"pl_goal_no\"])\n",
    "\n",
    "cr_goals.head(3)"
   ]
  },
  {
   "cell_type": "markdown",
   "metadata": {},
   "source": [
    "### Import FA Trophy goals\n",
    "\n",
    "**Fields:**\n",
    "\n",
    "* `game_date`\n",
    "* `player_name`\n",
    "* `minute`\n",
    "* `penalty` (0/1)\n",
    "* `own_goal` (0/1)"
   ]
  },
  {
   "cell_type": "code",
   "execution_count": null,
   "metadata": {},
   "outputs": [],
   "source": [
    "fa_trophy_goals = pd.read_csv(\"https://raw.githubusercontent.com/petebrown/complete-record/main/fa-trophy/fa_trophy_goals.csv\", parse_dates = [\"game_date\"]).rename(columns = {\"minute\": \"goal_min\"})\n",
    "\n",
    "fa_trophy_goals.head(3)"
   ]
  },
  {
   "cell_type": "code",
   "execution_count": null,
   "metadata": {},
   "outputs": [],
   "source": [
    "# Concatenate Complete Record and Soccerbase goal dataframes\n",
    "goals_df = pd.concat([cr_goals, sb_goals, fa_trophy_goals], axis = 0)\n",
    "\n",
    "goals_df = goals_df.sort_values(by = [\"game_date\", \"goal_min\"])[[\"game_date\", \"player_name\", \"goal_min\", \"penalty\", \"own_goal\"]]\n",
    "\n",
    "goals_df.head(3)"
   ]
  },
  {
   "cell_type": "markdown",
   "metadata": {},
   "source": [
    "#### Save goals to CSV"
   ]
  },
  {
   "cell_type": "code",
   "execution_count": null,
   "metadata": {},
   "outputs": [],
   "source": [
    "goals_df.to_csv('data/goals.csv', index=False)"
   ]
  },
  {
   "cell_type": "markdown",
   "metadata": {},
   "source": [
    "# Create `sub_mins_df`"
   ]
  },
  {
   "cell_type": "code",
   "execution_count": null,
   "metadata": {},
   "outputs": [],
   "source": [
    "season_dates = results[[\"game_date\", \"season\"]].drop_duplicates().sort_values(\"game_date\").reset_index(drop=True)\n",
    "\n",
    "season_dates.head(3)"
   ]
  },
  {
   "cell_type": "code",
   "execution_count": null,
   "metadata": {},
   "outputs": [],
   "source": [
    "game_nos = season_dates.copy()\n",
    "game_nos[\"game_no\"] = game_nos.sort_values(\"game_date\").groupby(\"season\").cumcount() + 1\n",
    "\n",
    "game_nos.head(3)"
   ]
  },
  {
   "cell_type": "code",
   "execution_count": null,
   "metadata": {},
   "outputs": [],
   "source": [
    "sb_game_ids.head(3)"
   ]
  },
  {
   "cell_type": "code",
   "execution_count": null,
   "metadata": {},
   "outputs": [],
   "source": [
    "sb_player_ids.head(3)"
   ]
  },
  {
   "cell_type": "code",
   "execution_count": null,
   "metadata": {},
   "outputs": [],
   "source": [
    "# Import Soccerbase subs and red card CSV\n",
    "sb_sub_mins = pd.read_csv(\"https://raw.githubusercontent.com/petebrown/scrape-events/main/data/subs-and-reds.csv\").merge(sb_game_ids, how = \"left\", on = \"game_id\") \\\n",
    "    .merge(sb_player_ids, how = \"left\", on = \"player_id\") \\\n",
    "    .sort_values(\"game_date\") \\\n",
    "    [[\"game_date\", \"player_name\", \"min_on\", \"min_off\"]].reset_index(drop = True)\n",
    "\n",
    "# Import manual fixes to Soccerbase sub data\n",
    "sb_sub_min_fixes = pd.read_csv(\"https://raw.githubusercontent.com/petebrown/complete-record/main/seasons/manual/sb_sub_fixes.csv\", parse_dates = [\"game_date\"])[[\"game_date\", \"player_name\", \"min_on\", \"min_off\"]]\n",
    "\n",
    " # Fix known error with Luke Norris sub v. Barrow \n",
    "sb_sub_mins.loc[(sb_sub_mins.game_date == \"2023-08-05\") & (sb_sub_mins.player_name == \"Luke Norris\"), 'min_off'] = np.nan\n",
    "\n",
    "# Filter out sendings off\n",
    "sb_sub_mins = sb_sub_mins[~((sb_sub_mins.min_on.isna()) & (sb_sub_mins.min_off.isna()))]\n",
    "\n",
    "# Filter out records for dates with manual fixes\n",
    "sb_sub_mins = sb_sub_mins[~sb_sub_mins.game_date.isin(sb_sub_min_fixes.game_date.unique())]\n",
    "\n",
    "# Append manual fixes to Soccerbase sub data\n",
    "sb_sub_mins = pd.concat([sb_sub_mins, sb_sub_min_fixes]).sort_values(\"game_date\").reset_index(drop = True)\n",
    "\n",
    "sb_sub_min_removals = pd.read_csv(\"https://raw.githubusercontent.com/petebrown/complete-record/main/seasons/manual/sb_sub_min_removals.csv\", parse_dates = [\"game_date\"])\n",
    "\n",
    "sb_sub_mins = sb_sub_mins.merge(sb_sub_min_removals, how = \"outer\", on = [\"game_date\", \"player_name\"], indicator = True).query(\"_merge == 'left_only'\").drop(columns = \"_merge\")\n",
    "\n",
    "sb_sub_min_additions = pd.read_csv(\"https://raw.githubusercontent.com/petebrown/complete-record/main/seasons/manual/sb_sub_min_additions.csv\", parse_dates = [\"game_date\"])[[\"game_date\", \"player_name\", \"min_on\", \"min_off\"]]\n",
    "\n",
    "sb_sub_mins = pd.concat([sb_sub_mins, sb_sub_min_additions]).sort_values(\"game_date\").reset_index(drop = True)\n",
    "\n",
    "sb_sub_mins.head(3)"
   ]
  },
  {
   "cell_type": "code",
   "execution_count": null,
   "metadata": {},
   "outputs": [],
   "source": [
    "cr_sub_mins = pd.read_csv(\"https://raw.githubusercontent.com/petebrown/complete-record/main/output/cr_subs_and_reds.csv\", parse_dates = [\"game_date\"], na_values = [\"0\"])[[\"game_date\", \"player_name\", \"min_off\", \"min_on\"]]\n",
    "\n",
    "cr_sub_mins.head(3)"
   ]
  },
  {
   "cell_type": "code",
   "execution_count": null,
   "metadata": {},
   "outputs": [],
   "source": [
    "fa_trophy_sub_mins = pd.read_csv(\"https://raw.githubusercontent.com/petebrown/complete-record/main/fa-trophy/fa_trophy_fixtures.csv\", parse_dates = [\"game_date\"])[[\"game_date\", \"player_name\", \"min_off\", \"min_on\"]].query(\"min_off > 0 or min_on > 0\")\n",
    "\n",
    "fa_trophy_sub_mins.head(3)"
   ]
  },
  {
   "cell_type": "code",
   "execution_count": null,
   "metadata": {},
   "outputs": [],
   "source": [
    "sub_mins_df = pd.concat([cr_sub_mins, sb_sub_mins, fa_trophy_sub_mins]).sort_values(\"game_date\").reset_index(drop = True)\n",
    "\n",
    "sub_mins_df.head(3)"
   ]
  },
  {
   "cell_type": "code",
   "execution_count": null,
   "metadata": {},
   "outputs": [],
   "source": [
    "sub_mins_df.to_csv('data/sub_mins.csv', index = False)"
   ]
  },
  {
   "cell_type": "markdown",
   "metadata": {},
   "source": [
    "# Create `shirt_nos_df`"
   ]
  },
  {
   "cell_type": "code",
   "execution_count": null,
   "metadata": {},
   "outputs": [],
   "source": [
    "sub_mins_df.to_csv('data/sub_mins.csv', index = False)"
   ]
  },
  {
   "cell_type": "code",
   "execution_count": null,
   "metadata": {},
   "outputs": [],
   "source": [
    "shirt_nos_df = pd.read_csv(\"https://raw.githubusercontent.com/petebrown/complete-record/main/squad_nos/squad_nos.csv\")\n",
    "\n",
    "shirt_nos_df.head(3)"
   ]
  },
  {
   "cell_type": "markdown",
   "metadata": {},
   "source": [
    "# Create `red_cards_df`"
   ]
  },
  {
   "cell_type": "code",
   "execution_count": null,
   "metadata": {},
   "outputs": [],
   "source": [
    "cr_red_cards = pd.read_csv(\"https://raw.githubusercontent.com/petebrown/complete-record/main/seasons/manual/cards_red.csv\", parse_dates = [\"game_date\"])\n",
    "\n",
    "cr_red_cards.head(3)"
   ]
  },
  {
   "cell_type": "code",
   "execution_count": null,
   "metadata": {},
   "outputs": [],
   "source": [
    "sb_red_cards = pd.read_csv(\"https://raw.githubusercontent.com/petebrown/scrape-events/main/data/subs-and-reds.csv\").merge(sb_game_ids, how = \"left\", on = \"game_id\").merge(sb_player_ids, how = \"left\", on = \"player_id\")[[\"game_date\", \"player_name\", \"min_so\"]].sort_values(\"game_date\")\n",
    "\n",
    "sb_red_cards = sb_red_cards[~sb_red_cards.min_so.isna()].reset_index(drop = True)\n",
    "\n",
    "sb_red_cards.head(3)"
   ]
  },
  {
   "cell_type": "code",
   "execution_count": null,
   "metadata": {},
   "outputs": [],
   "source": [
    "fa_trophy_reds = pd.read_csv(\"https://raw.githubusercontent.com/petebrown/complete-record/main/fa-trophy/fa_trophy_cards.csv\", parse_dates = [\"game_date\"])[[\"game_date\", \"player_name\", \"red_card\", \"min_so\"]].query(\"red_card == 1\").drop(columns = \"red_card\").reset_index(drop = True)\n",
    "\n",
    "fa_trophy_reds.head(3)"
   ]
  },
  {
   "cell_type": "code",
   "execution_count": null,
   "metadata": {},
   "outputs": [],
   "source": [
    "red_cards_df = pd.concat([cr_red_cards, sb_red_cards, fa_trophy_reds], axis = 0).sort_values([\"game_date\", \"min_so\"]).reset_index(drop = True)\n",
    "\n",
    "red_cards_df.head(3)"
   ]
  },
  {
   "cell_type": "markdown",
   "metadata": {},
   "source": [
    "#### Save red_cards to CSV"
   ]
  },
  {
   "cell_type": "code",
   "execution_count": null,
   "metadata": {},
   "outputs": [],
   "source": [
    "red_cards_df.to_csv('data/red_cards.csv', index = False)"
   ]
  },
  {
   "cell_type": "markdown",
   "metadata": {},
   "source": [
    "# Create `yellow_cards_df`"
   ]
  },
  {
   "cell_type": "code",
   "execution_count": null,
   "metadata": {},
   "outputs": [],
   "source": [
    "cr_yellows = pd.read_csv(\"https://raw.githubusercontent.com/petebrown/complete-record/main/seasons/manual/cards_yellow.csv\", parse_dates = [\"game_date\"])\n",
    "\n",
    "cr_yellows.head(3)"
   ]
  },
  {
   "cell_type": "code",
   "execution_count": null,
   "metadata": {},
   "outputs": [],
   "source": [
    "sb_yellows = sb_match_apps[[\"game_date\", \"player_name\", \"yellow_cards\"]].query(\"yellow_cards > 0\").sort_values(by = \"game_date\")\n",
    "\n",
    "sb_yellows.head(3)"
   ]
  },
  {
   "cell_type": "code",
   "execution_count": null,
   "metadata": {},
   "outputs": [],
   "source": [
    "fa_trophy_yellows = pd.read_csv(\"https://raw.githubusercontent.com/petebrown/complete-record/main/fa-trophy/fa_trophy_cards.csv\", parse_dates = [\"game_date\"])[[\"game_date\", \"player_name\", \"yellow_card\"]].query(\"yellow_card == 1\").rename(columns = {\"yellow_card\": \"yellow_cards\"})\n",
    "\n",
    "fa_trophy_yellows.head(3)"
   ]
  },
  {
   "cell_type": "code",
   "execution_count": null,
   "metadata": {},
   "outputs": [],
   "source": [
    "yellow_cards_df = pd.concat([cr_yellows, sb_yellows, fa_trophy_yellows], axis = 0).sort_values(by = \"game_date\").drop(columns=[\"yellow_cards\"]).reset_index(drop = True)\n",
    "\n",
    "yellow_cards_df.head(3)"
   ]
  },
  {
   "cell_type": "markdown",
   "metadata": {},
   "source": [
    "#### Save yellow_cards to CSV"
   ]
  },
  {
   "cell_type": "code",
   "execution_count": null,
   "metadata": {},
   "outputs": [],
   "source": [
    "yellow_cards_df.to_csv('data/yellow_cards.csv', index = False)"
   ]
  },
  {
   "cell_type": "markdown",
   "metadata": {},
   "source": [
    "# Create `player_apps_df`"
   ]
  },
  {
   "cell_type": "code",
   "execution_count": null,
   "metadata": {},
   "outputs": [],
   "source": [
    "pl_ssns_9798 = pd.read_csv(\"https://raw.githubusercontent.com/petebrown/complete-record/main/output/player_ssns_9798.csv\")\n",
    "pl_ssns_9798.head(3)"
   ]
  },
  {
   "cell_type": "code",
   "execution_count": null,
   "metadata": {},
   "outputs": [],
   "source": [
    "pl_ssns_9899 = pd.read_csv(\"https://raw.githubusercontent.com/petebrown/complete-record/main/output/player_ssns_9899.csv\")\n",
    "pl_ssns_9899.head(3)"
   ]
  },
  {
   "cell_type": "code",
   "execution_count": null,
   "metadata": {},
   "outputs": [],
   "source": [
    "pl_ssns = pd.read_csv(\"https://raw.githubusercontent.com/petebrown/complete-record/main/output/player_ssns.csv\")\n",
    "pl_ssns.head(3)"
   ]
  },
  {
   "cell_type": "code",
   "execution_count": null,
   "metadata": {},
   "outputs": [],
   "source": [
    "cr_pl_ssns = pd.concat([pl_ssns, pl_ssns_9798, pl_ssns_9899], axis = 0).sort_values(by = [\"surname\", \"forename\", \"ssn\"]).reset_index(drop = True)\n",
    "cr_pl_ssns.head(3)"
   ]
  },
  {
   "cell_type": "code",
   "execution_count": null,
   "metadata": {},
   "outputs": [],
   "source": [
    "cr_pl_ssns_prepped = cr_pl_ssns[[\"season\", \"disam_name\", \"player_name\"]].drop_duplicates().reset_index(drop = True)\n",
    "\n",
    "cr_player_apps = pd.read_csv(\"https://raw.githubusercontent.com/petebrown/complete-record/main/output/apps_long.csv\") \\\n",
    "    .merge(game_nos, how = \"left\", on = [\"season\", \"game_no\"]) \\\n",
    "    .merge(cr_pl_ssns_prepped, how = \"left\", left_on = [\"season\", \"player_name\"], right_on = [\"season\", \"disam_name\"]) \\\n",
    "    .rename(columns = {\"player_name_y\": \"player_name\"}) \\\n",
    "    [[\"game_date\", \"player_name\", \"shirt_no\", \"role\"]]\n",
    "\n",
    "cr_player_apps.head(3)"
   ]
  },
  {
   "cell_type": "code",
   "execution_count": null,
   "metadata": {},
   "outputs": [],
   "source": [
    "fa_trophy_player_apps = pd.read_csv(\"https://raw.githubusercontent.com/petebrown/complete-record/main/fa-trophy/fa_trophy_fixtures.csv\", parse_dates = [\"game_date\"])[[\"game_date\", \"player_name\", \"shirt_no\", \"role\"]]\n",
    "\n",
    "fa_trophy_player_apps.head(3)"
   ]
  },
  {
   "cell_type": "code",
   "execution_count": null,
   "metadata": {},
   "outputs": [],
   "source": [
    "def get_squad_no(season, player_name, game_date):\n",
    "    try:\n",
    "        if season == \"2014/15\" and player_name == \"Janoi Donacien\" and game_date < pd.Timestamp(\"2015-03-07\"):\n",
    "            return 19\n",
    "        elif season == \"2014/15\" and player_name == \"Janoi Donacien\" and game_date >= pd.Timestamp(\"2015-03-07\"):\n",
    "            return  12\n",
    "        else:\n",
    "            return shirt_nos_df[(shirt_nos_df.season == season) & (shirt_nos_df.player_name == player_name)].squad_no.values[0]\n",
    "    except:\n",
    "        return None\n",
    "\n",
    "sb_player_apps = sb_match_apps[~sb_match_apps.season.isin([\"1996/97\", \"1997/98\", \"1998/99\"])][[\"game_date\", \"player_name\"]].copy()\n",
    "\n",
    "sb_player_apps[\"shirt_no\"] = sb_match_apps.apply(lambda x: get_squad_no(x.season, x.player_name, x.game_date), axis = 1)"
   ]
  },
  {
   "cell_type": "code",
   "execution_count": null,
   "metadata": {},
   "outputs": [],
   "source": [
    "def get_role(game_date, player_name):\n",
    "    subs = sub_mins_df[~sub_mins_df.min_on.isna()].drop(columns=['min_off', 'min_on'])\n",
    "\n",
    "    subs = subs[(subs.game_date == game_date) & (subs.player_name == player_name)]\n",
    "\n",
    "    if subs.empty:\n",
    "        return \"starter\"\n",
    "    else:\n",
    "        return \"sub\"\n",
    "\n",
    "sb_player_apps[\"role\"] = sb_player_apps.apply(lambda x: get_role(x.game_date, x.player_name), axis=1)\n",
    "\n",
    "sb_player_apps.head(3)"
   ]
  },
  {
   "cell_type": "code",
   "execution_count": null,
   "metadata": {},
   "outputs": [],
   "source": [
    "player_apps = pd.concat([cr_player_apps, sb_player_apps, fa_trophy_player_apps], axis = 0).sort_values(by = [\"game_date\", \"role\", \"shirt_no\"]).reset_index(drop = True)\n",
    "\n",
    "player_apps.head(3)"
   ]
  },
  {
   "cell_type": "markdown",
   "metadata": {},
   "source": [
    "#### Save player_apps to csv"
   ]
  },
  {
   "cell_type": "code",
   "execution_count": null,
   "metadata": {},
   "outputs": [],
   "source": [
    "player_apps.to_csv('data/player_apps.csv', index = False)"
   ]
  },
  {
   "cell_type": "markdown",
   "metadata": {},
   "source": [
    "# Create `subs_df`"
   ]
  },
  {
   "cell_type": "code",
   "execution_count": null,
   "metadata": {},
   "outputs": [],
   "source": [
    "cr_subs = pd.read_csv(\"https://raw.githubusercontent.com/petebrown/complete-record/main/output/apps_long.csv\").merge(game_nos, how = \"left\", on = [\"season\", \"game_no\"]) \\\n",
    "    .merge(cr_pl_ssns_prepped, how = \"left\", left_on = [\"season\", \"player_name\"], right_on = [\"season\", \"disam_name\"]) \\\n",
    "    .rename(columns = {\"player_name_y\": \"player_name\"}) \\\n",
    "    .sort_values([\"game_date\", \"shirt_no\"]) \\\n",
    "    [[\"game_date\", \"shirt_no\", \"player_name\", \"on_for\", \"off_for\"]]\n",
    "\n",
    "cr_subs = cr_subs[(cr_subs.on_for.notnull()) | (cr_subs.off_for.notnull())]\n",
    "cr_subs.head(3)"
   ]
  },
  {
   "cell_type": "code",
   "execution_count": null,
   "metadata": {},
   "outputs": [],
   "source": [
    "sb_subs = sb_sub_mins[~sb_sub_mins.game_date.isin(cr_subs.game_date)].copy()\n",
    "sb_subs.query(\"game_date == '2023-08-05'\")"
   ]
  },
  {
   "cell_type": "code",
   "execution_count": null,
   "metadata": {},
   "outputs": [],
   "source": [
    "# Import Soccerbase subs and red card CSV\n",
    "sb_subs = sb_sub_mins[~sb_sub_mins.game_date.isin(cr_subs.game_date)].copy()\n",
    "\n",
    "# Get lower number from min_on and min_off\n",
    "sb_subs['sub_min'] = sb_subs[['min_on', 'min_off']].min(axis = 1)\n",
    "\n",
    "sb_subs_on = sb_subs[sb_subs.min_on.notnull()]\n",
    "sb_subs_off = sb_subs[sb_subs.min_off.notnull()]\n",
    "\n",
    "sb_subs_on.head(3)"
   ]
  },
  {
   "cell_type": "code",
   "execution_count": null,
   "metadata": {},
   "outputs": [],
   "source": [
    "sb_subs_on_unique = sb_subs_on[[\"game_date\", \"min_on\"]].copy()\n",
    "\n",
    "sb_subs_on_unique = sb_subs_on_unique.groupby([sb_subs_on_unique.game_date, sb_subs_on_unique.min_on]).size().reset_index(name='count').query('count == 1').drop(columns = {\"count\"})\n",
    "\n",
    "sb_subs_on_unique = sb_subs_on.merge(sb_subs_on_unique, on = [\"game_date\", \"min_on\"], how = \"inner\") \\\n",
    "    .merge(player_apps, left_on = [\"game_date\", \"player_name\"], right_on = [\"game_date\", \"player_name\"], how = \"inner\") \\\n",
    "    [[\"game_date\", \"shirt_no\", \"player_name\", \"min_on\"]]\n",
    "\n",
    "sb_subs_on_unique.head(3)"
   ]
  },
  {
   "cell_type": "code",
   "execution_count": null,
   "metadata": {},
   "outputs": [],
   "source": [
    "sb_subs_off_unique = sb_subs_off[[\"game_date\", \"min_off\"]].copy()\n",
    "\n",
    "sb_subs_off_unique = sb_subs_off_unique.groupby([sb_subs_off_unique.game_date, sb_subs_off_unique.min_off]).size().reset_index(name='count').query('count == 1').drop(columns = {\"count\"})\n",
    "\n",
    "sb_subs_off_unique = sb_subs_off.merge(sb_subs_off_unique, on = [\"game_date\", \"min_off\"], how = \"inner\") \\\n",
    "    .merge(player_apps, left_on = [\"game_date\", \"player_name\"], right_on = [\"game_date\", \"player_name\"], how = \"inner\") \\\n",
    "    [[\"game_date\", \"shirt_no\", \"player_name\", \"min_off\"]]\n",
    "\n",
    "sb_subs_off_unique.tail(10)"
   ]
  },
  {
   "cell_type": "code",
   "execution_count": null,
   "metadata": {},
   "outputs": [],
   "source": [
    "sb_subs_1 = pd.merge(left = sb_subs_on_unique, right = sb_subs_off_unique, how = \"inner\", left_on = [\"game_date\", \"min_on\"], right_on = [\"game_date\", \"min_off\"]) \\\n",
    ".rename(\n",
    "    columns = {\n",
    "        \"shirt_no_x\": \"shirt_no\",\n",
    "        \"player_name_x\": \"player_name\",\n",
    "        \"shirt_no_y\": \"on_for\",\n",
    "    }\n",
    ")[[\"game_date\", \"shirt_no\", \"player_name\", \"min_on\", \"on_for\"]]\n",
    "\n",
    "sb_subs_1.head(3)"
   ]
  },
  {
   "cell_type": "code",
   "execution_count": null,
   "metadata": {},
   "outputs": [],
   "source": [
    "sb_subs_2 = pd.merge(left = sb_subs_on_unique, right = sb_subs_off_unique, how = \"inner\", left_on = [\"game_date\", \"min_on\"], right_on = [\"game_date\", \"min_off\"]) \\\n",
    "    .rename(\n",
    "        columns = {\n",
    "            \"shirt_no_y\": \"shirt_no\",\n",
    "            \"player_name_y\": \"player_name\",\n",
    "            \"shirt_no_x\": \"off_for\",\n",
    "        }\n",
    "    )[[\"game_date\", \"shirt_no\", \"player_name\", \"min_off\", \"off_for\"]]\n",
    "\n",
    "sb_subs_2.head(3)"
   ]
  },
  {
   "cell_type": "code",
   "execution_count": null,
   "metadata": {},
   "outputs": [],
   "source": [
    "sb_subs = pd.concat([sb_subs_1, sb_subs_2], axis = 0).sort_values(\"game_date\").reset_index(drop = True)[[\"game_date\", \"shirt_no\", \"player_name\", \"on_for\", \"off_for\"]]\n",
    "\n",
    "sb_subs.head(3)"
   ]
  },
  {
   "cell_type": "code",
   "execution_count": null,
   "metadata": {},
   "outputs": [],
   "source": [
    "# Import manual sub fixes\n",
    "sb_sub_fixes = pd.read_csv(\"https://raw.githubusercontent.com/petebrown/complete-record/main/seasons/manual/sb_sub_fixes.csv\", parse_dates = [\"game_date\"])[[\"game_date\", \"shirt_no\", \"player_name\", \"on_for\", \"off_for\"]].sort_values([\"game_date\"])\n",
    "\n",
    "sb_sub_fixes.head(3)"
   ]
  },
  {
   "cell_type": "code",
   "execution_count": null,
   "metadata": {},
   "outputs": [],
   "source": [
    "fa_trophy_subs = pd.read_csv(\"https://raw.githubusercontent.com/petebrown/complete-record/main/fa-trophy/fa_trophy_fixtures.csv\", parse_dates = [\"game_date\"])[[\"game_date\", \"shirt_no\", \"player_name\", \"on_for\", \"off_for\"]].query(\"on_for > 0 or off_for > 0\")\n",
    "\n",
    "fa_trophy_subs.head(3)"
   ]
  },
  {
   "cell_type": "code",
   "execution_count": null,
   "metadata": {},
   "outputs": [],
   "source": [
    "subs_df = pd.concat([cr_subs, sb_subs, fa_trophy_subs], axis = 0).query(\"~game_date.isin(@sb_sub_fixes.game_date)\")\n",
    "\n",
    "subs_df = pd.concat([subs_df, sb_sub_fixes], axis = 0).sort_values(\"game_date\").reset_index(drop = True)[[\"game_date\", \"shirt_no\", \"player_name\", \"on_for\", \"off_for\"]]\n",
    "\n",
    "subs_df.head(3)"
   ]
  },
  {
   "cell_type": "markdown",
   "metadata": {},
   "source": [
    "#### Save subs_df to CSV"
   ]
  },
  {
   "cell_type": "code",
   "execution_count": null,
   "metadata": {},
   "outputs": [],
   "source": [
    "subs_df.to_csv(\"data/subs.csv\", index = False)"
   ]
  },
  {
   "cell_type": "code",
   "execution_count": null,
   "metadata": {},
   "outputs": [],
   "source": [
    "# Temporary comparison of subs_df before and after\n",
    "new = subs_df\n",
    "old = pd.read_csv(\"https://raw.githubusercontent.com/petebrown/pre-2023-data-prep/main/data/subs.csv\", parse_dates = [\"game_date\"])\n",
    "\n",
    "pd.merge(new, old, how = \"outer\", indicator = True).query('_merge == \"right_only\"')"
   ]
  },
  {
   "cell_type": "code",
   "execution_count": null,
   "metadata": {},
   "outputs": [],
   "source": [
    "# def calc_mins_played(row):\n",
    "#     role = row[\"role\"]\n",
    "#     min_on = row[\"min_on\"]\n",
    "#     min_off = row[\"min_off\"]\n",
    "#     min_so = row[\"min_so\"]\n",
    "#     game_length = row[\"game_length\"]\n",
    "    \n",
    "#     # Started, played to end\n",
    "#     if role == \"starter\" and np.isnan(min_off) and np.isnan(min_so):\n",
    "#         return game_length\n",
    "#     # Started, sent off\n",
    "#     elif role == \"starter\" and not np.isnan(min_so):\n",
    "#         return min_so\n",
    "#     # Started, subbed off\n",
    "#     elif role == \"starter\" and not np.isnan(min_off):\n",
    "#         return min_off\n",
    "#     # Subbed on, played to end\n",
    "#     elif role == \"sub\" and np.isnan(min_off):\n",
    "#         return game_length - min_on\n",
    "#     # Subbed on, sent off\n",
    "#     elif role == \"sub\" and not np.isnan(min_so):\n",
    "#         return min_so - min_on\n",
    "#     # Subbed on, subbed off\n",
    "#     elif role == \"sub\" and not np.isnan(min_off):\n",
    "#         return min_off - min_on\n",
    "#     else:\n",
    "#         return \"OTHER\"\n",
    "    \n",
    "\n",
    "# player_events = player_apps \\\n",
    "#     .merge(sub_mins_df, how = \"left\", on = [\"game_date\", \"player_name\"]) \\\n",
    "#     .merge(red_cards_df, how = \"left\", on = [\"game_date\", \"player_name\"]) \\\n",
    "#     .merge(game_lengths, how = \"left\", on = [\"game_date\"])\n",
    "\n",
    "# player_events[\"mins_played\"] = player_events.apply(calc_mins_played, axis = 1)\n",
    "\n",
    "# player_events.head()"
   ]
  },
  {
   "cell_type": "code",
   "execution_count": null,
   "metadata": {},
   "outputs": [],
   "source": [
    "# player_events[(player_events.role == \"sub\") & (np.isnan(player_events.min_on))].tail(10)"
   ]
  },
  {
   "cell_type": "code",
   "execution_count": null,
   "metadata": {},
   "outputs": [],
   "source": []
  },
  {
   "cell_type": "code",
   "execution_count": null,
   "metadata": {},
   "outputs": [],
   "source": []
  },
  {
   "cell_type": "code",
   "execution_count": null,
   "metadata": {},
   "outputs": [],
   "source": []
  },
  {
   "cell_type": "code",
   "execution_count": null,
   "metadata": {},
   "outputs": [],
   "source": [
    "sb_player_info = pd.read_csv(\"https://raw.githubusercontent.com/petebrown/scrape-player-info/main/data/player-info.csv\")\n",
    "\n",
    "sb_player_dobs = sb_player_info[[\"player_id\", \"player_dob\"]].drop_duplicates().sort_values(by = \"player_dob\").dropna(subset = [\"player_dob\"]).merge(sb_player_ids, on = \"player_id\", how = \"left\").dropna(subset = \"player_name\")\n",
    "\n",
    "sb_plr_ssns = sb_match_apps[[\"player_id\", \"game_date\"]] \\\n",
    "    .merge(season_dates, how=\"left\", on=\"game_date\") \\\n",
    "    .merge(sb_player_dobs, how=\"left\", on=\"player_id\") \\\n",
    "    [[\"player_name\", \"season\", \"player_dob\"]] \\\n",
    "    .sort_values([\"player_dob\", \"season\"]) \\\n",
    "    .drop_duplicates() \\\n",
    "    .reset_index(drop = True)\n",
    "\n",
    "sb_plr_ssns.player_name = sb_plr_ssns.player_name.apply(fix_name)\n",
    "\n",
    "# sb_plr_ssns.player_dob = pd.to_datetime(sb_plr_ssns.player_dob)\n",
    "\n",
    "sb_plr_ssns"
   ]
  },
  {
   "cell_type": "code",
   "execution_count": null,
   "metadata": {},
   "outputs": [],
   "source": [
    "def display_dob(dob, dob_qtr, dob_yr, dob_yr_is_est):\n",
    "    if dob:\n",
    "        return None\n",
    "\n",
    "    elif dob_qtr and dob_yr:\n",
    "        dob_str = f\"Q{dob_qtr} {dob_yr}\"\n",
    "\n",
    "    elif dob_yr and not dob_yr_is_est:\n",
    "        dob_str = str(dob_yr)\n",
    "\n",
    "    elif dob_yr:\n",
    "        dob_str = f\"~{dob_yr}\"\n",
    "\n",
    "    elif not all([dob, dob_qtr, dob_yr, dob_yr_is_est]):\n",
    "        dob_str = \"Unknown\"\n",
    "    \n",
    "    return dob_str.replace(\".0\", \"\")\n",
    "    \n",
    "cr_player_info = pd.read_csv(\"https://raw.githubusercontent.com/petebrown/complete-record/main/output/player_stats.csv\").rename(columns = {\"dob\": \"player_dob\"})\n",
    "\n",
    "cr_player_info[\"player_name\"] = cr_player_info[\"forename\"] + \" \" + cr_player_info[\"surname\"]\n",
    "\n",
    "cr_player_info[[\"player_dob\", \"dob_qtr\", \"dob_yr\"]] = cr_player_info[[\"player_dob\", \"dob_qtr\", \"dob_yr\"]].fillna(False)\n",
    "\n",
    "cr_player_info[\"dob_yr_is_est\"] = cr_player_info[\"dob_yr_is_est\"].astype(bool)\n",
    "\n",
    "cr_player_info[\"dob_display\"] = cr_player_info.apply(lambda x: display_dob(x.player_dob, x.dob_qtr, x.dob_yr, x.dob_yr_is_est), axis=1)\n",
    "\n",
    "cr_player_info[['player_name', 'player_dob']].drop_duplicates().player_name.value_counts().to_frame().reset_index().query(\"count > 1\")"
   ]
  },
  {
   "cell_type": "code",
   "execution_count": null,
   "metadata": {},
   "outputs": [],
   "source": [
    "cr_dob_dict = cr_player_info[[\"player_name\", \"player_dob\", \"dob_display\", \"ssn_join\", \"ssn_lve\"]].to_dict(\"records\")\n",
    "\n",
    "cr_dobs = []\n",
    "for player in cr_dob_dict:\n",
    "    years = (player[\"ssn_lve\"] - player[\"ssn_join\"]) + 1\n",
    "    for year in range(0, years):\n",
    "        season_1 = player[\"ssn_join\"] + year\n",
    "        season_2 = str(season_1 + 1)[2:]\n",
    "        season = f\"{season_1}/{season_2}\"\n",
    "        player_rec = {\n",
    "            \"player_name\": player[\"player_name\"],\n",
    "            \"player_dob\": player[\"player_dob\"],\n",
    "            \"dob_display\": player[\"dob_display\"],\n",
    "            \"season\": season\n",
    "        }\n",
    "        cr_dobs.append(player_rec)\n",
    "\n",
    "cr_dobs = pd.DataFrame(cr_dobs)\n",
    "\n",
    "cr_plr_ssns = cr_player_apps \\\n",
    "    .merge(season_dates, on = [\"game_date\"], how = \"left\") \\\n",
    "    .merge(cr_dobs, on = [\"season\", \"player_name\"], how = \"inner\") \\\n",
    "    [[\"player_name\", \"season\", \"player_dob\", \"dob_display\"]] \\\n",
    "    .drop_duplicates() \\\n",
    "    .reset_index(drop = True)\n",
    "\n",
    "cr_plr_ssns"
   ]
  },
  {
   "cell_type": "code",
   "execution_count": null,
   "metadata": {},
   "outputs": [],
   "source": [
    "player_dobs = pd.concat([cr_plr_ssns, sb_plr_ssns])\n",
    "player_dobs"
   ]
  },
  {
   "cell_type": "code",
   "execution_count": null,
   "metadata": {},
   "outputs": [],
   "source": [
    "dupe_players = player_dobs[[\"player_name\", \"player_dob\"]].drop_duplicates().player_name.value_counts().to_frame().reset_index().query(\"count > 1\").player_name.tolist()\n",
    "\n",
    "dupe_players"
   ]
  },
  {
   "cell_type": "code",
   "execution_count": null,
   "metadata": {},
   "outputs": [],
   "source": [
    "def get_pl_index(player_name, surname, forename, dob, dob_display):\n",
    "    if player_name not in dupe_players:\n",
    "        return f\"{surname}, {forename}\"\n",
    "    elif dob is not pd.NaT:\n",
    "        return f\"{surname}, {forename} (b.{dob.year})\"\n",
    "    else:\n",
    "        return f\"{surname}, {forename} (b.{dob_display[-4:]})\"\n",
    "    \n",
    "player_dobs[\"name_words\"] = player_dobs.player_name.str.split(\" \").apply(len)\n",
    "\n",
    "long_names = player_dobs.query(\"name_words != 2\").player_name.drop_duplicates()\n",
    "\n",
    "player_dobs[\"forename\"] = player_dobs.player_name.str.split(\" \").str[0]\n",
    "player_dobs[\"surname\"] = player_dobs.player_name.str.split(\" \").str[1:].str.join(\" \")\n",
    "player_dobs.loc[player_dobs.player_name == \"Pedro Miguel Matias\", 'forename'] = 'Pedro Miguel'\n",
    "player_dobs.loc[player_dobs.player_name == \"Pedro Miguel Matias\", 'surname'] = 'Matias'\n",
    "\n",
    "player_dobs[\"player_dob\"] = pd.to_datetime(player_dobs.player_dob, errors = \"coerce\")\n",
    "\n",
    "player_dobs[\"pl_index\"] = player_dobs.apply(lambda x: get_pl_index(x.player_name, x.surname, x.forename, x.player_dob, x.dob_display), axis = 1)\n",
    "\n",
    "player_dobs = player_dobs.drop(columns = [\"name_words\"]).sort_values(by = [\"pl_index\"]).drop_duplicates().reset_index(drop = True)\n",
    "\n",
    "player_dobs"
   ]
  },
  {
   "cell_type": "code",
   "execution_count": null,
   "metadata": {},
   "outputs": [],
   "source": [
    "player_dobs.to_csv(\"./data/player_dobs.csv\", index = False)"
   ]
  },
  {
   "cell_type": "code",
   "execution_count": null,
   "metadata": {},
   "outputs": [],
   "source": [
    "player_dobs[[\"pl_index\", \"player_dob\", \"dob_display\"]].drop_duplicates().reset_index(drop = True)"
   ]
  },
  {
   "cell_type": "code",
   "execution_count": null,
   "metadata": {},
   "outputs": [],
   "source": [
    "goals_df.query(\"goal_min.isna()\").tail(10)"
   ]
  },
  {
   "cell_type": "code",
   "execution_count": null,
   "metadata": {},
   "outputs": [],
   "source": []
  }
 ],
 "metadata": {
  "kernelspec": {
   "display_name": "Python 3",
   "language": "python",
   "name": "python3"
  },
  "language_info": {
   "codemirror_mode": {
    "name": "ipython",
    "version": 3
   },
   "file_extension": ".py",
   "mimetype": "text/x-python",
   "name": "python",
   "nbconvert_exporter": "python",
   "pygments_lexer": "ipython3",
   "version": "3.11.3"
  },
  "orig_nbformat": 4
 },
 "nbformat": 4,
 "nbformat_minor": 2
}
